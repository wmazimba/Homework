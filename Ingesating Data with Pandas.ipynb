{
 "cells": [
  {
   "cell_type": "markdown",
   "metadata": {},
   "source": [
    "#### Flow Control, Modules, Functions, Exceptions and Numpy\n",
    "1. What does one need to do to use models?\n",
    "\n"
   ]
  },
  {
   "cell_type": "markdown",
   "metadata": {},
   "source": [
    "#### \n",
    "1.What does one need to do to use a model?"
   ]
  },
  {
   "cell_type": "code",
   "execution_count": null,
   "metadata": {},
   "outputs": [],
   "source": [
    "2. # One uses a python module to generate random variables, manipulate dates and time, calculate mathematical functions and detect regular text."
   ]
  },
  {
   "cell_type": "code",
   "execution_count": null,
   "metadata": {},
   "outputs": [],
   "source": [
    "3. # The nam one of the Numpy Modules is the Math Module. Below are three examples of the math code."
   ]
  },
  {
   "cell_type": "code",
   "execution_count": 10,
   "metadata": {},
   "outputs": [
    {
     "name": "stdout",
     "output_type": "stream",
     "text": [
      "65\n"
     ]
    }
   ],
   "source": [
    "import math\n",
    "print(math.ceil(64.30))"
   ]
  },
  {
   "cell_type": "code",
   "execution_count": 19,
   "metadata": {},
   "outputs": [
    {
     "name": "stdout",
     "output_type": "stream",
     "text": [
      "244.0\n"
     ]
    }
   ],
   "source": [
    "import math\n",
    "a = 12, 15, 17, 105, 95\n",
    "print(math.fsum(a))"
   ]
  },
  {
   "cell_type": "code",
   "execution_count": 22,
   "metadata": {},
   "outputs": [
    {
     "name": "stdout",
     "output_type": "stream",
     "text": [
      "15.620499351813308\n"
     ]
    }
   ],
   "source": [
    "import math\n",
    "a = 244\n",
    "print(math.sqrt(a))"
   ]
  },
  {
   "cell_type": "code",
   "execution_count": 24,
   "metadata": {},
   "outputs": [
    {
     "name": "stdout",
     "output_type": "stream",
     "text": [
      "15.620499351813308\n"
     ]
    }
   ],
   "source": [
    "import math\n",
    "a = 15.620499351813308\n",
    "print(math.fabs(a))"
   ]
  },
  {
   "cell_type": "code",
   "execution_count": null,
   "metadata": {},
   "outputs": [],
   "source": [
    "# What is the Benefit of using exception handling and what are the 4 components used?\n",
    "\n",
    "# Exception handling keeps the code going past many errors without python normally stopping when it detects an error.\n",
    "# The 4 components are: try, except, else, finally"
   ]
  },
  {
   "cell_type": "code",
   "execution_count": null,
   "metadata": {},
   "outputs": [],
   "source": [
    "# Numpy Arrays are like python lists and one of the benefits of using Numpy arrays is they store only one type of orderd data as opposed to python lists that store various types of data.\n",
    "# Numpy Arrays are faster than python lists and occupy less memory.\n",
    "# One of the main requirements about the 'dtype' Numpy Arrays is that that data should be a python object such as an Integer or float.\n",
    "# Two uses of Nuumpy include; statistical and mathmatical operations\n",
    "# the other library we will use with Numpy is Pandas\n",
    "# The shape of Numpy arrays is multidimensional.\n",
    "# A Tensor is multidimensional array with uniform data type.\n",
    "# A Numpy Array stores one  type of specified data, while python lists store various types of data\n",
    "# When creating an \"empty\" array, elements come from random values present in memory. It is therefore advisable to populate the arrays with own data before using the array. "
   ]
  },
  {
   "cell_type": "code",
   "execution_count": 25,
   "metadata": {},
   "outputs": [],
   "source": [
    "# If Statementsif age is greater than or equal to 25, print \"Renting a car is more afforrdable\". If age is less than 25, print, \"Renting a car is very expensive.\"\n"
   ]
  },
  {
   "cell_type": "code",
   "execution_count": 32,
   "metadata": {},
   "outputs": [
    {
     "name": "stdout",
     "output_type": "stream",
     "text": [
      "Renting a car is more affordable\n"
     ]
    }
   ],
   "source": [
    "age = 25\n",
    "print(\"Renting a car is more affordable\") if age >= 25 else print(\"Renting a car is very expensive\")\n"
   ]
  },
  {
   "cell_type": "code",
   "execution_count": 56,
   "metadata": {},
   "outputs": [
    {
     "name": "stdout",
     "output_type": "stream",
     "text": [
      "Renting a car is more affordable\n"
     ]
    }
   ],
   "source": [
    "age = 25\n",
    "if age <= 25:\n",
    "    print(\"Renting a car is more affordable\")"
   ]
  },
  {
   "cell_type": "code",
   "execution_count": 59,
   "metadata": {},
   "outputs": [
    {
     "name": "stdout",
     "output_type": "stream",
     "text": [
      "renting a car is very expensive\n",
      "You cannot legally rent a car\n"
     ]
    }
   ],
   "source": [
    "age = 25\n",
    "if age >= 18:\n",
    "    print(\"renting a car is very expensive\") or print (\"You cannot legally rent a car\")"
   ]
  },
  {
   "cell_type": "code",
   "execution_count": 63,
   "metadata": {},
   "outputs": [
    {
     "data": {
      "text/plain": [
       "43"
      ]
     },
     "execution_count": 63,
     "metadata": {},
     "output_type": "execute_result"
    }
   ],
   "source": [
    "# 3. Counting characters in the string and printing vowels\n",
    "x = \"The quick brown fox jumps over the lazy dog\"\n",
    "len(x)"
   ]
  },
  {
   "cell_type": "code",
   "execution_count": 114,
   "metadata": {},
   "outputs": [
    {
     "name": "stdout",
     "output_type": "stream",
     "text": [
      "Element at index 36: a\n",
      "Element at index 2: e\n",
      "Element at index 6: i\n",
      "Element at index 12: o\n",
      "Element at index 5: u\n"
     ]
    }
   ],
   "source": [
    "str = \"The quick brown fox jumps over the lazy dog\"\n",
    "print(\"Element at index 36:\", str[36])\n",
    "print(\"Element at index 2:\", str[2])\n",
    "print(\"Element at index 6:\", str[6])\n",
    "print(\"Element at index 12:\", str[12])   \n",
    "print(\"Element at index 5:\", str[5])"
   ]
  },
  {
   "cell_type": "code",
   "execution_count": null,
   "metadata": {},
   "outputs": [],
   "source": [
    "# 4.printing out every peice of clothing and every fashionable color"
   ]
  },
  {
   "cell_type": "code",
   "execution_count": 133,
   "metadata": {},
   "outputs": [
    {
     "name": "stdout",
     "output_type": "stream",
     "text": [
      "Element at index 0 trousers\n",
      "Element at index 1 blouse\n",
      "Element at index 2 bandana\n",
      "Element at index 3 cumber band\n",
      "Element at index 4 blazer\n",
      "Element at index 6 vest\n",
      "Element at index 6 french beret\n",
      "Element at index 7 scarf\n"
     ]
    }
   ],
   "source": [
    "# 4,1. clothing\n",
    "couture = (\"trousers\", \"blouse\", \"bandana\", \"cumber band\", \"blazer\", \"vest\", \"french beret\", \"scarf\", \"stole\")\n",
    "print(\"Element at index 0\", couture[0])\n",
    "print(\"Element at index 1\", couture[1])\n",
    "print(\"Element at index 2\", couture[2])\n",
    "print(\"Element at index 3\", couture[3])\n",
    "print(\"Element at index 4\", couture[4])\n",
    "print(\"Element at index 6\", couture[5])\n",
    "print(\"Element at index 6\", couture[6])print(\"Element at index 7\", couture[7])"
   ]
  },
  {
   "cell_type": "code",
   "execution_count": null,
   "metadata": {},
   "outputs": [
    {
     "ename": "TypeError",
     "evalue": "'set' object is not subscriptable",
     "output_type": "error",
     "traceback": [
      "\u001b[1;31m---------------------------------------------------------------------------\u001b[0m",
      "\u001b[1;31mTypeError\u001b[0m                                 Traceback (most recent call last)",
      "Cell \u001b[1;32mIn[237], line 2\u001b[0m\n\u001b[0;32m      1\u001b[0m panettone \u001b[38;5;241m=\u001b[39m {\u001b[38;5;124m\"\u001b[39m\u001b[38;5;124mcerise\u001b[39m\u001b[38;5;124m\"\u001b[39m, \u001b[38;5;124m\"\u001b[39m\u001b[38;5;124mfuchsia\u001b[39m\u001b[38;5;124m\"\u001b[39m, \u001b[38;5;124m\"\u001b[39m\u001b[38;5;124maqua\u001b[39m\u001b[38;5;124m\"\u001b[39m, \u001b[38;5;124m\"\u001b[39m\u001b[38;5;124mmaple\u001b[39m\u001b[38;5;124m\"\u001b[39m, \u001b[38;5;124m\"\u001b[39m\u001b[38;5;124mauburn\u001b[39m\u001b[38;5;124m\"\u001b[39m, \u001b[38;5;124m\"\u001b[39m\u001b[38;5;124mburnt sienna\u001b[39m\u001b[38;5;124m\"\u001b[39m, \u001b[38;5;124m\"\u001b[39m\u001b[38;5;124mgunmetal blue\u001b[39m\u001b[38;5;124m\"\u001b[39m, \u001b[38;5;124m\"\u001b[39m\u001b[38;5;124mDark Sapphire\u001b[39m\u001b[38;5;124m\"\u001b[39m}\n\u001b[1;32m----> 2\u001b[0m \u001b[38;5;28mprint\u001b[39m(\u001b[38;5;124m\"\u001b[39m\u001b[38;5;124mElement at index 0\u001b[39m\u001b[38;5;124m\"\u001b[39m, \u001b[43mpanettone\u001b[49m\u001b[43m[\u001b[49m\u001b[38;5;241;43m0\u001b[39;49m\u001b[43m]\u001b[49m)\n\u001b[0;32m      3\u001b[0m \u001b[38;5;28mprint\u001b[39m(\u001b[38;5;124m\"\u001b[39m\u001b[38;5;124mElement at index 1\u001b[39m\u001b[38;5;124m\"\u001b[39m, panettone[\u001b[38;5;241m1\u001b[39m])\n\u001b[0;32m      4\u001b[0m \u001b[38;5;28mprint\u001b[39m(\u001b[38;5;124m\"\u001b[39m\u001b[38;5;124mElement at index 2\u001b[39m\u001b[38;5;124m\"\u001b[39m, panettone[\u001b[38;5;241m2\u001b[39m])\n",
      "\u001b[1;31mTypeError\u001b[0m: 'set' object is not subscriptable"
     ]
    }
   ],
   "source": [
    "# 4.1. Fashionable color\n",
    "panettone = {\"cerise\", \"fuchsia\", \"aqua\", \"maple\", \"auburn\", \"burnt sienna\", \"gunmetal blue\", \"Dark Sapphire\"}\n",
    "print(\"Element at index 0\", panettone[0])\n",
    "print(\"Element at index 1\", panettone[1])\n",
    "print(\"Element at index 2\", panettone[2])\n",
    "print(\"Element at index 3\", panettone[3])\n",
    "print(\"Element at index 4\", panettone[4])\n",
    "print(\"Element at index 6\", panettone[5])\n",
    "print(\"Element at index 6\", panettone[6])\n",
    "print(\"Element at index 7\", panettone[7])"
   ]
  },
  {
   "cell_type": "code",
   "execution_count": 252,
   "metadata": {},
   "outputs": [
    {
     "name": "stdout",
     "output_type": "stream",
     "text": [
      "range(1, 100)\n"
     ]
    }
   ],
   "source": [
    "# 5. Using range to calculate sum of numbers from 1 to 100.\n",
    "import math\n",
    "x = range(1, 100)\n",
    "math.fsum(x)\n",
    "print(x)\n"
   ]
  },
  {
   "cell_type": "code",
   "execution_count": 253,
   "metadata": {},
   "outputs": [
    {
     "name": "stdout",
     "output_type": "stream",
     "text": [
      "Sum ... 101.0\n"
     ]
    }
   ],
   "source": [
    "# 5.1 First try with range (1, 100)\n",
    "import math\n",
    "x = range(1,100)\n",
    "print(\"Sum ...\", math.fsum([1, 100]))"
   ]
  },
  {
   "cell_type": "code",
   "execution_count": 254,
   "metadata": {},
   "outputs": [
    {
     "name": "stdout",
     "output_type": "stream",
     "text": [
      "Sum ... 100.0\n"
     ]
    }
   ],
   "source": [
    "# 5.2 Second try with range (0,100) - Why does python not add 1 in this case?\n",
    "import math\n",
    "x = range(1,100)\n",
    "print(\"Sum ...\", math.fsum([0, 100]))"
   ]
  },
  {
   "cell_type": "code",
   "execution_count": 233,
   "metadata": {},
   "outputs": [
    {
     "name": "stdout",
     "output_type": "stream",
     "text": [
      "second element 2 cherry\n"
     ]
    }
   ],
   "source": [
    "# 6. Printing the second item in the list\n",
    "fruit_List = [\"apple\", \"banana\", \"cherry\"]\n",
    "print(\"second element 2\", fruit_List[2])"
   ]
  },
  {
   "cell_type": "code",
   "execution_count": 137,
   "metadata": {},
   "outputs": [
    {
     "name": "stdout",
     "output_type": "stream",
     "text": [
      "Element at index 1 fuchsia\n",
      "Element at index 2 aqua\n",
      "Element at index 3 maple\n",
      "Element at index 4 auburn\n",
      "Element at index 6 burnt sienna\n",
      "Element at index 6 gunmetal blue\n",
      "Element at index 7 Dark Sapphire\n"
     ]
    }
   ],
   "source": [
    "panettone = (\"cerise\", \"fuchsia\", \"aqua\", \"maple\", \"auburn\", \"burnt sienna\", \"gunmetal blue\", \"Dark Sapphire\")\n",
    "print(\"Element at index 1\", panettone[1])\n",
    "print(\"Element at index 2\", panettone[2])\n",
    "print(\"Element at index 3\", panettone[3])\n",
    "print(\"Element at index 4\", panettone[4])\n",
    "print(\"Element at index 6\", panettone[5])\n",
    "print(\"Element at index 6\", panettone[6])\n",
    "print(\"Element at index 7\", panettone[7])\n"
   ]
  },
  {
   "cell_type": "code",
   "execution_count": null,
   "metadata": {},
   "outputs": [],
   "source": [
    "# 7. Changing the value from apple to kiwi"
   ]
  },
  {
   "cell_type": "code",
   "execution_count": 168,
   "metadata": {},
   "outputs": [
    {
     "name": "stdout",
     "output_type": "stream",
     "text": [
      "['kiwi', 'banana', 'cherry']\n"
     ]
    }
   ],
   "source": [
    "My_Set = [\"apple\", \"banana\", \"cherry\"]\n",
    "My_Set.insert(1, \"kiwi\")\n",
    "My_Set.remove(\"apple\")\n",
    "print(My_Set)"
   ]
  },
  {
   "cell_type": "code",
   "execution_count": null,
   "metadata": {},
   "outputs": [],
   "source": [
    "# 8. Using the append method to add \"orange\" "
   ]
  },
  {
   "cell_type": "code",
   "execution_count": 147,
   "metadata": {},
   "outputs": [
    {
     "name": "stdout",
     "output_type": "stream",
     "text": [
      "['apple', 'banana', 'cherry', 'orange']\n"
     ]
    }
   ],
   "source": [
    "My_Set = [\"apple\", \"banana\", \"cherry\"]\n",
    "My_Set.append(\"orange\")\n",
    "print(My_Set)"
   ]
  },
  {
   "cell_type": "code",
   "execution_count": null,
   "metadata": {},
   "outputs": [],
   "source": [
    "# 9. Using the Insert method to insert \"lemon\""
   ]
  },
  {
   "cell_type": "code",
   "execution_count": 157,
   "metadata": {},
   "outputs": [
    {
     "name": "stdout",
     "output_type": "stream",
     "text": [
      "['apple', 'banana', 'cherry', 'lemon']\n"
     ]
    }
   ],
   "source": [
    "My_Set = [\"apple\", \"banana\", \"cherry\"]\n",
    "My_Set.insert(4, \"lemon\")\n",
    "print(My_Set)"
   ]
  },
  {
   "cell_type": "code",
   "execution_count": null,
   "metadata": {},
   "outputs": [],
   "source": [
    "# 10. Using the remove method to remove banana"
   ]
  },
  {
   "cell_type": "code",
   "execution_count": 232,
   "metadata": {},
   "outputs": [
    {
     "name": "stdout",
     "output_type": "stream",
     "text": [
      "\n"
     ]
    }
   ],
   "source": [
    "My_Set = [\"apple\", \"banana\", \"cherry\"]\n",
    "My_Set.remove(\"banana\")\n",
    "print()"
   ]
  },
  {
   "cell_type": "code",
   "execution_count": 141,
   "metadata": {},
   "outputs": [
    {
     "data": {
      "text/plain": [
       "['apple', 'cherry']"
      ]
     },
     "execution_count": 141,
     "metadata": {},
     "output_type": "execute_result"
    }
   ],
   "source": [
    "My_Set"
   ]
  },
  {
   "cell_type": "code",
   "execution_count": null,
   "metadata": {},
   "outputs": [],
   "source": [
    "# 11. Using negative indices"
   ]
  },
  {
   "cell_type": "code",
   "execution_count": 170,
   "metadata": {},
   "outputs": [
    {
     "name": "stdout",
     "output_type": "stream",
     "text": [
      "Element at index -2 melon\n",
      "Element at index -3 kiwi\n"
     ]
    }
   ],
   "source": [
    "My_FruitList = [\"apple\", \"banana\", \"cherry\", \"orange\", \"kiwi\", \"melon\", \"mango\"]\n",
    "print(\"Element at index -2\", My_FruitList[-2])\n",
    "print(\"Element at index -3\", My_FruitList[-3])"
   ]
  },
  {
   "cell_type": "code",
   "execution_count": null,
   "metadata": {},
   "outputs": [],
   "source": [
    "# 12. Using a range of indeces to print 3rd, fourth and fith items"
   ]
  },
  {
   "cell_type": "code",
   "execution_count": 211,
   "metadata": {},
   "outputs": [
    {
     "name": "stdout",
     "output_type": "stream",
     "text": [
      "3rd element at index 3 orange\n",
      "fourth element at index -3 kiwi\n",
      "fith element at index -2 melon\n"
     ]
    }
   ],
   "source": [
    "My_FruitList = [\"apple\", \"banana\", \"cherry\", \"orange\", \"kiwi\", \"melon\", \"mango\"]\n",
    "print( \"3rd element at index 3\", My_FruitList[3])\n",
    "print(\"fourth element at index -3\", My_FruitList[-3])\n",
    "print(\"fith element at index -2\", My_FruitList[-2])"
   ]
  },
  {
   "cell_type": "code",
   "execution_count": null,
   "metadata": {},
   "outputs": [],
   "source": [
    "# 13. Correct Syntax to print the number of items"
   ]
  },
  {
   "cell_type": "code",
   "execution_count": 179,
   "metadata": {},
   "outputs": [
    {
     "data": {
      "text/plain": [
       "7"
      ]
     },
     "execution_count": 179,
     "metadata": {},
     "output_type": "execute_result"
    }
   ],
   "source": [
    "My_FruitList = [\"apple\", \"banana\", \"cherry\", \"orange\", \"kiwi\", \"melon\", \"mango\"]\n",
    "len(My_FruitList)"
   ]
  },
  {
   "cell_type": "code",
   "execution_count": null,
   "metadata": {},
   "outputs": [],
   "source": [
    "# 14. Reverse order"
   ]
  },
  {
   "cell_type": "code",
   "execution_count": 182,
   "metadata": {},
   "outputs": [
    {
     "name": "stdout",
     "output_type": "stream",
     "text": [
      "['mango', 'melon', 'kiwi', 'orange', 'cherry', 'banana', 'apple']\n"
     ]
    }
   ],
   "source": [
    "My_FruitList = [\"apple\", \"banana\", \"cherry\", \"orange\", \"kiwi\", \"melon\", \"mango\"]\n",
    "My_FruitList.reverse()\n",
    "print(My_FruitList)"
   ]
  },
  {
   "cell_type": "code",
   "execution_count": null,
   "metadata": {},
   "outputs": [],
   "source": [
    "# 15. Using DateTime module"
   ]
  },
  {
   "cell_type": "code",
   "execution_count": 190,
   "metadata": {},
   "outputs": [
    {
     "name": "stdout",
     "output_type": "stream",
     "text": [
      "Current Date and Time ... 2025-01-13 00:30:34.268737\n",
      "current time now... 2025-01-13 00:30:34.268737\n"
     ]
    }
   ],
   "source": [
    "import datetime as dt\n",
    "a = dt.datetime.now()\n",
    "print(\"Current Date and Time ...\", a)\n",
    "print(\"current time now...\", a)"
   ]
  },
  {
   "cell_type": "code",
   "execution_count": null,
   "metadata": {},
   "outputs": [],
   "source": [
    "# 16. Simple function with 2 parameters"
   ]
  },
  {
   "cell_type": "code",
   "execution_count": 226,
   "metadata": {},
   "outputs": [
    {
     "name": "stdout",
     "output_type": "stream",
     "text": [
      "Hi! Wilson Happy Sunday!\n",
      "Happy Sunday!\n",
      "Hi! Wilson\n"
     ]
    }
   ],
   "source": [
    "x = (\"Wilson\", \"Sunday!\")\n",
    "print(\"Hi!\", x[0],\"Happy\", x[1])\n",
    "print(\"Happy\", x[1])\n",
    "print(\"Hi!\", x[0])\n",
    "\n"
   ]
  },
  {
   "cell_type": "code",
   "execution_count": null,
   "metadata": {},
   "outputs": [],
   "source": [
    "#17. HANDLING ONE OF THE MOST COMMON EXCEPTIONS"
   ]
  },
  {
   "cell_type": "code",
   "execution_count": 231,
   "metadata": {},
   "outputs": [
    {
     "name": "stdout",
     "output_type": "stream",
     "text": [
      "incomplete input\n",
      "The 'try except' is finished\n"
     ]
    }
   ],
   "source": [
    "try:\n",
    "    print(test)\n",
    "except:\n",
    "    print(\"incomplete input\")\n",
    "finally:\n",
    "    print(\"The 'try except' is finished\")"
   ]
  },
  {
   "cell_type": "code",
   "execution_count": 257,
   "metadata": {},
   "outputs": [
    {
     "ename": "SyntaxError",
     "evalue": "invalid syntax (962680678.py, line 4)",
     "output_type": "error",
     "traceback": [
      "\u001b[1;36m  Cell \u001b[1;32mIn[257], line 4\u001b[1;36m\u001b[0m\n\u001b[1;33m    print(years), years, sap '\\n'\u001b[0m\n\u001b[1;37m                             ^\u001b[0m\n\u001b[1;31mSyntaxError\u001b[0m\u001b[1;31m:\u001b[0m invalid syntax\n"
     ]
    }
   ],
   "source": [
    "import pandas as pd\n",
    "age = [20,35,40,50]\n",
    "years = pd.Series(age)\n",
    "print(years), years, sap '\\n'"
   ]
  },
  {
   "cell_type": "code",
   "execution_count": 259,
   "metadata": {},
   "outputs": [],
   "source": [
    "import pandas as pd\n",
    "data ={'Name':['Wilson', 'Mazimba'],\n",
    "       'Height':[1.67, 2],\n",
    "       'industry':['Banking', 'public']}\n"
   ]
  },
  {
   "cell_type": "code",
   "execution_count": null,
   "metadata": {},
   "outputs": [],
   "source": []
  },
  {
   "cell_type": "code",
   "execution_count": 14,
   "metadata": {},
   "outputs": [
    {
     "data": {
      "text/html": [
       "<div>\n",
       "<style scoped>\n",
       "    .dataframe tbody tr th:only-of-type {\n",
       "        vertical-align: middle;\n",
       "    }\n",
       "\n",
       "    .dataframe tbody tr th {\n",
       "        vertical-align: top;\n",
       "    }\n",
       "\n",
       "    .dataframe thead th {\n",
       "        text-align: right;\n",
       "    }\n",
       "</style>\n",
       "<table border=\"1\" class=\"dataframe\">\n",
       "  <thead>\n",
       "    <tr style=\"text-align: right;\">\n",
       "      <th></th>\n",
       "      <th>PassengerId</th>\n",
       "      <th>Survived</th>\n",
       "      <th>Pclass</th>\n",
       "      <th>Name</th>\n",
       "      <th>Sex</th>\n",
       "      <th>Age</th>\n",
       "      <th>SibSp</th>\n",
       "      <th>Parch</th>\n",
       "      <th>Ticket</th>\n",
       "      <th>Fare</th>\n",
       "      <th>Cabin</th>\n",
       "      <th>Embarked</th>\n",
       "    </tr>\n",
       "  </thead>\n",
       "  <tbody>\n",
       "    <tr>\n",
       "      <th>0</th>\n",
       "      <td>1</td>\n",
       "      <td>0</td>\n",
       "      <td>3</td>\n",
       "      <td>Braund, Mr. Owen Harris</td>\n",
       "      <td>male</td>\n",
       "      <td>22.0</td>\n",
       "      <td>1</td>\n",
       "      <td>0</td>\n",
       "      <td>A/5 21171</td>\n",
       "      <td>7.2500</td>\n",
       "      <td>NaN</td>\n",
       "      <td>S</td>\n",
       "    </tr>\n",
       "    <tr>\n",
       "      <th>1</th>\n",
       "      <td>2</td>\n",
       "      <td>1</td>\n",
       "      <td>1</td>\n",
       "      <td>Cumings, Mrs. John Bradley (Florence Briggs Th...</td>\n",
       "      <td>female</td>\n",
       "      <td>38.0</td>\n",
       "      <td>1</td>\n",
       "      <td>0</td>\n",
       "      <td>PC 17599</td>\n",
       "      <td>71.2833</td>\n",
       "      <td>C85</td>\n",
       "      <td>C</td>\n",
       "    </tr>\n",
       "    <tr>\n",
       "      <th>2</th>\n",
       "      <td>3</td>\n",
       "      <td>1</td>\n",
       "      <td>3</td>\n",
       "      <td>Heikkinen, Miss. Laina</td>\n",
       "      <td>female</td>\n",
       "      <td>26.0</td>\n",
       "      <td>0</td>\n",
       "      <td>0</td>\n",
       "      <td>STON/O2. 3101282</td>\n",
       "      <td>7.9250</td>\n",
       "      <td>NaN</td>\n",
       "      <td>S</td>\n",
       "    </tr>\n",
       "    <tr>\n",
       "      <th>3</th>\n",
       "      <td>4</td>\n",
       "      <td>1</td>\n",
       "      <td>1</td>\n",
       "      <td>Futrelle, Mrs. Jacques Heath (Lily May Peel)</td>\n",
       "      <td>female</td>\n",
       "      <td>35.0</td>\n",
       "      <td>1</td>\n",
       "      <td>0</td>\n",
       "      <td>113803</td>\n",
       "      <td>53.1000</td>\n",
       "      <td>C123</td>\n",
       "      <td>S</td>\n",
       "    </tr>\n",
       "    <tr>\n",
       "      <th>4</th>\n",
       "      <td>5</td>\n",
       "      <td>0</td>\n",
       "      <td>3</td>\n",
       "      <td>Allen, Mr. William Henry</td>\n",
       "      <td>male</td>\n",
       "      <td>35.0</td>\n",
       "      <td>0</td>\n",
       "      <td>0</td>\n",
       "      <td>373450</td>\n",
       "      <td>8.0500</td>\n",
       "      <td>NaN</td>\n",
       "      <td>S</td>\n",
       "    </tr>\n",
       "    <tr>\n",
       "      <th>...</th>\n",
       "      <td>...</td>\n",
       "      <td>...</td>\n",
       "      <td>...</td>\n",
       "      <td>...</td>\n",
       "      <td>...</td>\n",
       "      <td>...</td>\n",
       "      <td>...</td>\n",
       "      <td>...</td>\n",
       "      <td>...</td>\n",
       "      <td>...</td>\n",
       "      <td>...</td>\n",
       "      <td>...</td>\n",
       "    </tr>\n",
       "    <tr>\n",
       "      <th>886</th>\n",
       "      <td>887</td>\n",
       "      <td>0</td>\n",
       "      <td>2</td>\n",
       "      <td>Montvila, Rev. Juozas</td>\n",
       "      <td>male</td>\n",
       "      <td>27.0</td>\n",
       "      <td>0</td>\n",
       "      <td>0</td>\n",
       "      <td>211536</td>\n",
       "      <td>13.0000</td>\n",
       "      <td>NaN</td>\n",
       "      <td>S</td>\n",
       "    </tr>\n",
       "    <tr>\n",
       "      <th>887</th>\n",
       "      <td>888</td>\n",
       "      <td>1</td>\n",
       "      <td>1</td>\n",
       "      <td>Graham, Miss. Margaret Edith</td>\n",
       "      <td>female</td>\n",
       "      <td>19.0</td>\n",
       "      <td>0</td>\n",
       "      <td>0</td>\n",
       "      <td>112053</td>\n",
       "      <td>30.0000</td>\n",
       "      <td>B42</td>\n",
       "      <td>S</td>\n",
       "    </tr>\n",
       "    <tr>\n",
       "      <th>888</th>\n",
       "      <td>889</td>\n",
       "      <td>0</td>\n",
       "      <td>3</td>\n",
       "      <td>Johnston, Miss. Catherine Helen \"Carrie\"</td>\n",
       "      <td>female</td>\n",
       "      <td>NaN</td>\n",
       "      <td>1</td>\n",
       "      <td>2</td>\n",
       "      <td>W./C. 6607</td>\n",
       "      <td>23.4500</td>\n",
       "      <td>NaN</td>\n",
       "      <td>S</td>\n",
       "    </tr>\n",
       "    <tr>\n",
       "      <th>889</th>\n",
       "      <td>890</td>\n",
       "      <td>1</td>\n",
       "      <td>1</td>\n",
       "      <td>Behr, Mr. Karl Howell</td>\n",
       "      <td>male</td>\n",
       "      <td>26.0</td>\n",
       "      <td>0</td>\n",
       "      <td>0</td>\n",
       "      <td>111369</td>\n",
       "      <td>30.0000</td>\n",
       "      <td>C148</td>\n",
       "      <td>C</td>\n",
       "    </tr>\n",
       "    <tr>\n",
       "      <th>890</th>\n",
       "      <td>891</td>\n",
       "      <td>0</td>\n",
       "      <td>3</td>\n",
       "      <td>Dooley, Mr. Patrick</td>\n",
       "      <td>male</td>\n",
       "      <td>32.0</td>\n",
       "      <td>0</td>\n",
       "      <td>0</td>\n",
       "      <td>370376</td>\n",
       "      <td>7.7500</td>\n",
       "      <td>NaN</td>\n",
       "      <td>Q</td>\n",
       "    </tr>\n",
       "  </tbody>\n",
       "</table>\n",
       "<p>891 rows × 12 columns</p>\n",
       "</div>"
      ],
      "text/plain": [
       "     PassengerId  Survived  Pclass  \\\n",
       "0              1         0       3   \n",
       "1              2         1       1   \n",
       "2              3         1       3   \n",
       "3              4         1       1   \n",
       "4              5         0       3   \n",
       "..           ...       ...     ...   \n",
       "886          887         0       2   \n",
       "887          888         1       1   \n",
       "888          889         0       3   \n",
       "889          890         1       1   \n",
       "890          891         0       3   \n",
       "\n",
       "                                                  Name     Sex   Age  SibSp  \\\n",
       "0                              Braund, Mr. Owen Harris    male  22.0      1   \n",
       "1    Cumings, Mrs. John Bradley (Florence Briggs Th...  female  38.0      1   \n",
       "2                               Heikkinen, Miss. Laina  female  26.0      0   \n",
       "3         Futrelle, Mrs. Jacques Heath (Lily May Peel)  female  35.0      1   \n",
       "4                             Allen, Mr. William Henry    male  35.0      0   \n",
       "..                                                 ...     ...   ...    ...   \n",
       "886                              Montvila, Rev. Juozas    male  27.0      0   \n",
       "887                       Graham, Miss. Margaret Edith  female  19.0      0   \n",
       "888           Johnston, Miss. Catherine Helen \"Carrie\"  female   NaN      1   \n",
       "889                              Behr, Mr. Karl Howell    male  26.0      0   \n",
       "890                                Dooley, Mr. Patrick    male  32.0      0   \n",
       "\n",
       "     Parch            Ticket     Fare Cabin Embarked  \n",
       "0        0         A/5 21171   7.2500   NaN        S  \n",
       "1        0          PC 17599  71.2833   C85        C  \n",
       "2        0  STON/O2. 3101282   7.9250   NaN        S  \n",
       "3        0            113803  53.1000  C123        S  \n",
       "4        0            373450   8.0500   NaN        S  \n",
       "..     ...               ...      ...   ...      ...  \n",
       "886      0            211536  13.0000   NaN        S  \n",
       "887      0            112053  30.0000   B42        S  \n",
       "888      2        W./C. 6607  23.4500   NaN        S  \n",
       "889      0            111369  30.0000  C148        C  \n",
       "890      0            370376   7.7500   NaN        Q  \n",
       "\n",
       "[891 rows x 12 columns]"
      ]
     },
     "execution_count": 14,
     "metadata": {},
     "output_type": "execute_result"
    }
   ],
   "source": [
    "import pandas as pd\n",
    "pd.read_csv(r\"C:\\Users\\Wilsom Mazimba\\Downloads\\titanic.csv\")\n"
   ]
  },
  {
   "cell_type": "code",
   "execution_count": 15,
   "metadata": {},
   "outputs": [],
   "source": [
    "# Rename Column Names:\n",
    "col_names = [\"Id\", \"Survived\", \n",
    "                \"Passenger Class\", \"Full Name\", \n",
    "                \"Gender\", \"Age\", \"SibSp\", \"Parch\", \n",
    "                \"Ticket Number\", \"Price\", \"Cabin\", \"Station\"] "
   ]
  },
  {
   "cell_type": "code",
   "execution_count": 20,
   "metadata": {},
   "outputs": [
    {
     "name": "stdout",
     "output_type": "stream",
     "text": [
      "            Id  Survived Passenger Class  \\\n",
      "0  PassengerId  Survived          Pclass   \n",
      "1            1         0               3   \n",
      "2            2         1               1   \n",
      "3            3         1               3   \n",
      "4            4         1               1   \n",
      "\n",
      "                                           Full Name  Gender  Age  SibSp  \\\n",
      "0                                               Name     Sex  Age  SibSp   \n",
      "1                            Braund, Mr. Owen Harris    male   22      1   \n",
      "2  Cumings, Mrs. John Bradley (Florence Briggs Th...  female   38      1   \n",
      "3                             Heikkinen, Miss. Laina  female   26      0   \n",
      "4       Futrelle, Mrs. Jacques Heath (Lily May Peel)  female   35      1   \n",
      "\n",
      "   Parch     Ticket Number    Price  Cabin   Station  \n",
      "0  Parch            Ticket     Fare  Cabin  Embarked  \n",
      "1      0         A/5 21171     7.25    NaN         S  \n",
      "2      0          PC 17599  71.2833    C85         C  \n",
      "3      0  STON/O2. 3101282    7.925    NaN         S  \n",
      "4      0            113803     53.1   C123         S  \n"
     ]
    }
   ],
   "source": [
    "titanic_data = pd.read_csv(r\"C:\\Users\\Wilsom Mazimba\\Downloads\\titanic.csv\", names = col_names)\n",
    "print(titanic_data.head())"
   ]
  },
  {
   "cell_type": "code",
   "execution_count": 21,
   "metadata": {},
   "outputs": [
    {
     "name": "stdout",
     "output_type": "stream",
     "text": [
      "      Id  Survived  Passenger Class  \\\n",
      "0      1         0                3   \n",
      "1      2         1                1   \n",
      "2      3         1                3   \n",
      "3      4         1                1   \n",
      "4      5         0                3   \n",
      "..   ...       ...              ...   \n",
      "886  887         0                2   \n",
      "887  888         1                1   \n",
      "888  889         0                3   \n",
      "889  890         1                1   \n",
      "890  891         0                3   \n",
      "\n",
      "                                             Full Name  Gender   Age  SibSp  \\\n",
      "0                              Braund, Mr. Owen Harris    male  22.0      1   \n",
      "1    Cumings, Mrs. John Bradley (Florence Briggs Th...  female  38.0      1   \n",
      "2                               Heikkinen, Miss. Laina  female  26.0      0   \n",
      "3         Futrelle, Mrs. Jacques Heath (Lily May Peel)  female  35.0      1   \n",
      "4                             Allen, Mr. William Henry    male  35.0      0   \n",
      "..                                                 ...     ...   ...    ...   \n",
      "886                              Montvila, Rev. Juozas    male  27.0      0   \n",
      "887                       Graham, Miss. Margaret Edith  female  19.0      0   \n",
      "888           Johnston, Miss. Catherine Helen \"Carrie\"  female   NaN      1   \n",
      "889                              Behr, Mr. Karl Howell    male  26.0      0   \n",
      "890                                Dooley, Mr. Patrick    male  32.0      0   \n",
      "\n",
      "     Parch     Ticket Number    Price Cabin Station  \n",
      "0        0         A/5 21171   7.2500   NaN       S  \n",
      "1        0          PC 17599  71.2833   C85       C  \n",
      "2        0  STON/O2. 3101282   7.9250   NaN       S  \n",
      "3        0            113803  53.1000  C123       S  \n",
      "4        0            373450   8.0500   NaN       S  \n",
      "..     ...               ...      ...   ...     ...  \n",
      "886      0            211536  13.0000   NaN       S  \n",
      "887      0            112053  30.0000   B42       S  \n",
      "888      2        W./C. 6607  23.4500   NaN       S  \n",
      "889      0            111369  30.0000  C148       C  \n",
      "890      0            370376   7.7500   NaN       Q  \n",
      "\n",
      "[891 rows x 12 columns]\n"
     ]
    }
   ],
   "source": [
    "# Skip Rows - expects an integer (number of rows at top of file to skip), or list of row numbers to skip individually\n",
    "# here, we are skipping the first row (0-based)\n",
    "titanic_data = pd.read_csv(r\"C:\\Users\\Wilsom Mazimba\\Downloads\\titanic.csv\", names = col_names, skiprows=[0])\n",
    "# print(titanic_data.head())\n",
    "\n",
    "# Save data to a new .csv file:\n",
    "titanic_data = pd.read_csv(r\"C:\\Users\\Wilsom Mazimba\\Downloads\\titanic.csv\", names = col_names, skiprows=[0])\n",
    "titanic_data.to_csv('use_titanic.csv', index=False)\n",
    "\n",
    "# # Viewing the newly created .csv file\n",
    "df = pd.read_csv('use_titanic.csv')\n",
    "print(df)"
   ]
  }
 ],
 "metadata": {
  "celltoolbar": "Slideshow",
  "kernelspec": {
   "display_name": "Python 3",
   "language": "python",
   "name": "python3"
  },
  "language_info": {
   "codemirror_mode": {
    "name": "ipython",
    "version": 3
   },
   "file_extension": ".py",
   "mimetype": "text/x-python",
   "name": "python",
   "nbconvert_exporter": "python",
   "pygments_lexer": "ipython3",
   "version": "3.13.1"
  }
 },
 "nbformat": 4,
 "nbformat_minor": 2
}
