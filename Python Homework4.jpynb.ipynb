{
 "cells": [
  {
   "cell_type": "markdown",
   "metadata": {},
   "source": [
    "#### Flow Control, Modules, Functions, Exceptions and Numpy\n",
    "1. What does one need to do to use models?\n",
    "\n"
   ]
  },
  {
   "cell_type": "markdown",
   "metadata": {},
   "source": [
    "#### \n",
    "1.What does one need to do to use a model?"
   ]
  },
  {
   "cell_type": "code",
   "execution_count": null,
   "metadata": {},
   "outputs": [],
   "source": [
    "2. # One uses a python module to generate random variables, manipulate dates and time, calculate mathematical functions and detect regular text."
   ]
  },
  {
   "cell_type": "code",
   "execution_count": null,
   "metadata": {},
   "outputs": [],
   "source": [
    "3. # The nam one of the Numpy Modules is the Math Module. Below are three examples of the math code."
   ]
  },
  {
   "cell_type": "code",
   "execution_count": 10,
   "metadata": {},
   "outputs": [
    {
     "name": "stdout",
     "output_type": "stream",
     "text": [
      "65\n"
     ]
    }
   ],
   "source": [
    "import math\n",
    "print(math.ceil(64.30))"
   ]
  },
  {
   "cell_type": "code",
   "execution_count": 19,
   "metadata": {},
   "outputs": [
    {
     "name": "stdout",
     "output_type": "stream",
     "text": [
      "244.0\n"
     ]
    }
   ],
   "source": [
    "import math\n",
    "a = 12, 15, 17, 105, 95\n",
    "print(math.fsum(a))"
   ]
  },
  {
   "cell_type": "code",
   "execution_count": 22,
   "metadata": {},
   "outputs": [
    {
     "name": "stdout",
     "output_type": "stream",
     "text": [
      "15.620499351813308\n"
     ]
    }
   ],
   "source": [
    "import math\n",
    "a = 244\n",
    "print(math.sqrt(a))"
   ]
  },
  {
   "cell_type": "code",
   "execution_count": 24,
   "metadata": {},
   "outputs": [
    {
     "name": "stdout",
     "output_type": "stream",
     "text": [
      "15.620499351813308\n"
     ]
    }
   ],
   "source": [
    "import math\n",
    "a = 15.620499351813308\n",
    "print(math.fabs(a))"
   ]
  },
  {
   "cell_type": "code",
   "execution_count": null,
   "metadata": {},
   "outputs": [],
   "source": [
    "# What is the Benefit of using exception handling and what are the 4 components used?\n",
    "\n",
    "# Exception handling keeps the code going past many errors without python normally stopping when it detects an error.\n",
    "# The 4 components are: try, except, else, finally"
   ]
  },
  {
   "cell_type": "code",
   "execution_count": null,
   "metadata": {},
   "outputs": [],
   "source": [
    "# Numpy Arrays are like python lists and one of the benefits of using Numpy arrays is they store only one type of orderd data as opposed to python lists that store various types of data.\n",
    "# Numpy Arrays are faster than python lists and occupy less memory.\n",
    "# One of the main requirements about the 'dtype' Numpy Arrays is that that data should be a python object such as an Integer or float.\n",
    "# Two uses of Nuumpy include; statistical and mathmatical operations\n",
    "# the other library we will use with Numpy is Pandas\n",
    "# The shape of Numpy arrays is multidimensional.\n",
    "# A Tensor is multidimensional array with uniform data type.\n",
    "# A Numpy Array stores one  type of specified data, while python lists store various types of data\n",
    "# When creating an \"empty\" array, elements come from random values present in memory. It is therefore advisable to populate the arrays with own data before using the array. "
   ]
  },
  {
   "cell_type": "code",
   "execution_count": 25,
   "metadata": {},
   "outputs": [],
   "source": [
    "# If Statementsif age is greater than or equal to 25, print \"Renting a car is more afforrdable\". If age is less than 25, print, \"Renting a car is very expensive.\"\n"
   ]
  },
  {
   "cell_type": "code",
   "execution_count": 32,
   "metadata": {},
   "outputs": [
    {
     "name": "stdout",
     "output_type": "stream",
     "text": [
      "Renting a car is more affordable\n"
     ]
    }
   ],
   "source": [
    "age = 25\n",
    "print(\"Renting a car is more affordable\") if age >= 25 else print(\"Renting a car is very expensive\")\n"
   ]
  },
  {
   "cell_type": "code",
   "execution_count": 56,
   "metadata": {},
   "outputs": [
    {
     "name": "stdout",
     "output_type": "stream",
     "text": [
      "Renting a car is more affordable\n"
     ]
    }
   ],
   "source": [
    "age = 25\n",
    "if age <= 25:\n",
    "    print(\"Renting a car is more affordable\")"
   ]
  },
  {
   "cell_type": "code",
   "execution_count": 59,
   "metadata": {},
   "outputs": [
    {
     "name": "stdout",
     "output_type": "stream",
     "text": [
      "renting a car is very expensive\n",
      "You cannot legally rent a car\n"
     ]
    }
   ],
   "source": [
    "age = 25\n",
    "if age >= 18:\n",
    "    print(\"renting a car is very expensive\") or print (\"You cannot legally rent a car\")"
   ]
  },
  {
   "cell_type": "code",
   "execution_count": 63,
   "metadata": {},
   "outputs": [
    {
     "data": {
      "text/plain": [
       "43"
      ]
     },
     "execution_count": 63,
     "metadata": {},
     "output_type": "execute_result"
    }
   ],
   "source": [
    "# 3. Counting characters in the string and printing vowels\n",
    "x = \"The quick brown fox jumps over the lazy dog\"\n",
    "len(x)"
   ]
  },
  {
   "cell_type": "code",
   "execution_count": 114,
   "metadata": {},
   "outputs": [
    {
     "name": "stdout",
     "output_type": "stream",
     "text": [
      "Element at index 36: a\n",
      "Element at index 2: e\n",
      "Element at index 6: i\n",
      "Element at index 12: o\n",
      "Element at index 5: u\n"
     ]
    }
   ],
   "source": [
    "str = \"The quick brown fox jumps over the lazy dog\"\n",
    "print(\"Element at index 36:\", str[36])\n",
    "print(\"Element at index 2:\", str[2])\n",
    "print(\"Element at index 6:\", str[6])\n",
    "print(\"Element at index 12:\", str[12])   \n",
    "print(\"Element at index 5:\", str[5])"
   ]
  },
  {
   "cell_type": "code",
   "execution_count": null,
   "metadata": {},
   "outputs": [],
   "source": [
    "# 4.printing out every peice of clothing and every fashionable color"
   ]
  },
  {
   "cell_type": "code",
   "execution_count": 133,
   "metadata": {},
   "outputs": [
    {
     "name": "stdout",
     "output_type": "stream",
     "text": [
      "Element at index 0 trousers\n",
      "Element at index 1 blouse\n",
      "Element at index 2 bandana\n",
      "Element at index 3 cumber band\n",
      "Element at index 4 blazer\n",
      "Element at index 6 vest\n",
      "Element at index 6 french beret\n",
      "Element at index 7 scarf\n"
     ]
    }
   ],
   "source": [
    "# 4,1. clothing\n",
    "couture = (\"trousers\", \"blouse\", \"bandana\", \"cumber band\", \"blazer\", \"vest\", \"french beret\", \"scarf\", \"stole\")\n",
    "print(\"Element at index 0\", couture[0])\n",
    "print(\"Element at index 1\", couture[1])\n",
    "print(\"Element at index 2\", couture[2])\n",
    "print(\"Element at index 3\", couture[3])\n",
    "print(\"Element at index 4\", couture[4])\n",
    "print(\"Element at index 6\", couture[5])\n",
    "print(\"Element at index 6\", couture[6])print(\"Element at index 7\", couture[7])"
   ]
  },
  {
   "cell_type": "code",
   "execution_count": null,
   "metadata": {},
   "outputs": [
    {
     "ename": "TypeError",
     "evalue": "'set' object is not subscriptable",
     "output_type": "error",
     "traceback": [
      "\u001b[1;31m---------------------------------------------------------------------------\u001b[0m",
      "\u001b[1;31mTypeError\u001b[0m                                 Traceback (most recent call last)",
      "Cell \u001b[1;32mIn[237], line 2\u001b[0m\n\u001b[0;32m      1\u001b[0m panettone \u001b[38;5;241m=\u001b[39m {\u001b[38;5;124m\"\u001b[39m\u001b[38;5;124mcerise\u001b[39m\u001b[38;5;124m\"\u001b[39m, \u001b[38;5;124m\"\u001b[39m\u001b[38;5;124mfuchsia\u001b[39m\u001b[38;5;124m\"\u001b[39m, \u001b[38;5;124m\"\u001b[39m\u001b[38;5;124maqua\u001b[39m\u001b[38;5;124m\"\u001b[39m, \u001b[38;5;124m\"\u001b[39m\u001b[38;5;124mmaple\u001b[39m\u001b[38;5;124m\"\u001b[39m, \u001b[38;5;124m\"\u001b[39m\u001b[38;5;124mauburn\u001b[39m\u001b[38;5;124m\"\u001b[39m, \u001b[38;5;124m\"\u001b[39m\u001b[38;5;124mburnt sienna\u001b[39m\u001b[38;5;124m\"\u001b[39m, \u001b[38;5;124m\"\u001b[39m\u001b[38;5;124mgunmetal blue\u001b[39m\u001b[38;5;124m\"\u001b[39m, \u001b[38;5;124m\"\u001b[39m\u001b[38;5;124mDark Sapphire\u001b[39m\u001b[38;5;124m\"\u001b[39m}\n\u001b[1;32m----> 2\u001b[0m \u001b[38;5;28mprint\u001b[39m(\u001b[38;5;124m\"\u001b[39m\u001b[38;5;124mElement at index 0\u001b[39m\u001b[38;5;124m\"\u001b[39m, \u001b[43mpanettone\u001b[49m\u001b[43m[\u001b[49m\u001b[38;5;241;43m0\u001b[39;49m\u001b[43m]\u001b[49m)\n\u001b[0;32m      3\u001b[0m \u001b[38;5;28mprint\u001b[39m(\u001b[38;5;124m\"\u001b[39m\u001b[38;5;124mElement at index 1\u001b[39m\u001b[38;5;124m\"\u001b[39m, panettone[\u001b[38;5;241m1\u001b[39m])\n\u001b[0;32m      4\u001b[0m \u001b[38;5;28mprint\u001b[39m(\u001b[38;5;124m\"\u001b[39m\u001b[38;5;124mElement at index 2\u001b[39m\u001b[38;5;124m\"\u001b[39m, panettone[\u001b[38;5;241m2\u001b[39m])\n",
      "\u001b[1;31mTypeError\u001b[0m: 'set' object is not subscriptable"
     ]
    }
   ],
   "source": [
    "# 4.1. Fashionable color\n",
    "panettone = {\"cerise\", \"fuchsia\", \"aqua\", \"maple\", \"auburn\", \"burnt sienna\", \"gunmetal blue\", \"Dark Sapphire\"}\n",
    "print(\"Element at index 0\", panettone[0])\n",
    "print(\"Element at index 1\", panettone[1])\n",
    "print(\"Element at index 2\", panettone[2])\n",
    "print(\"Element at index 3\", panettone[3])\n",
    "print(\"Element at index 4\", panettone[4])\n",
    "print(\"Element at index 6\", panettone[5])\n",
    "print(\"Element at index 6\", panettone[6])\n",
    "print(\"Element at index 7\", panettone[7])"
   ]
  },
  {
   "cell_type": "code",
   "execution_count": 252,
   "metadata": {},
   "outputs": [
    {
     "name": "stdout",
     "output_type": "stream",
     "text": [
      "range(1, 100)\n"
     ]
    }
   ],
   "source": [
    "# 5. Using range to calculate sum of numbers from 1 to 100.\n",
    "import math\n",
    "x = range(1, 100)\n",
    "math.fsum(x)\n",
    "print(x)\n"
   ]
  },
  {
   "cell_type": "code",
   "execution_count": 253,
   "metadata": {},
   "outputs": [
    {
     "name": "stdout",
     "output_type": "stream",
     "text": [
      "Sum ... 101.0\n"
     ]
    }
   ],
   "source": [
    "# 5.1 First try with range (1, 100)\n",
    "import math\n",
    "x = range(1,100)\n",
    "print(\"Sum ...\", math.fsum([1, 100]))"
   ]
  },
  {
   "cell_type": "code",
   "execution_count": 254,
   "metadata": {},
   "outputs": [
    {
     "name": "stdout",
     "output_type": "stream",
     "text": [
      "Sum ... 100.0\n"
     ]
    }
   ],
   "source": [
    "# 5.2 Second try with range (0,100) - Why does python not add 1 in this case?\n",
    "import math\n",
    "x = range(1,100)\n",
    "print(\"Sum ...\", math.fsum([0, 100]))"
   ]
  },
  {
   "cell_type": "code",
   "execution_count": 233,
   "metadata": {},
   "outputs": [
    {
     "name": "stdout",
     "output_type": "stream",
     "text": [
      "second element 2 cherry\n"
     ]
    }
   ],
   "source": [
    "# 6. Printing the second item in the list\n",
    "fruit_List = [\"apple\", \"banana\", \"cherry\"]\n",
    "print(\"second element 2\", fruit_List[2])"
   ]
  },
  {
   "cell_type": "code",
   "execution_count": 137,
   "metadata": {},
   "outputs": [
    {
     "name": "stdout",
     "output_type": "stream",
     "text": [
      "Element at index 1 fuchsia\n",
      "Element at index 2 aqua\n",
      "Element at index 3 maple\n",
      "Element at index 4 auburn\n",
      "Element at index 6 burnt sienna\n",
      "Element at index 6 gunmetal blue\n",
      "Element at index 7 Dark Sapphire\n"
     ]
    }
   ],
   "source": [
    "panettone = (\"cerise\", \"fuchsia\", \"aqua\", \"maple\", \"auburn\", \"burnt sienna\", \"gunmetal blue\", \"Dark Sapphire\")\n",
    "print(\"Element at index 1\", panettone[1])\n",
    "print(\"Element at index 2\", panettone[2])\n",
    "print(\"Element at index 3\", panettone[3])\n",
    "print(\"Element at index 4\", panettone[4])\n",
    "print(\"Element at index 6\", panettone[5])\n",
    "print(\"Element at index 6\", panettone[6])\n",
    "print(\"Element at index 7\", panettone[7])\n"
   ]
  },
  {
   "cell_type": "code",
   "execution_count": null,
   "metadata": {},
   "outputs": [],
   "source": [
    "# 7. Changing the value from apple to kiwi"
   ]
  },
  {
   "cell_type": "code",
   "execution_count": 168,
   "metadata": {},
   "outputs": [
    {
     "name": "stdout",
     "output_type": "stream",
     "text": [
      "['kiwi', 'banana', 'cherry']\n"
     ]
    }
   ],
   "source": [
    "My_Set = [\"apple\", \"banana\", \"cherry\"]\n",
    "My_Set.insert(1, \"kiwi\")\n",
    "My_Set.remove(\"apple\")\n",
    "print(My_Set)"
   ]
  },
  {
   "cell_type": "code",
   "execution_count": null,
   "metadata": {},
   "outputs": [],
   "source": [
    "# 8. Using the append method to add \"orange\" "
   ]
  },
  {
   "cell_type": "code",
   "execution_count": 147,
   "metadata": {},
   "outputs": [
    {
     "name": "stdout",
     "output_type": "stream",
     "text": [
      "['apple', 'banana', 'cherry', 'orange']\n"
     ]
    }
   ],
   "source": [
    "My_Set = [\"apple\", \"banana\", \"cherry\"]\n",
    "My_Set.append(\"orange\")\n",
    "print(My_Set)"
   ]
  },
  {
   "cell_type": "code",
   "execution_count": null,
   "metadata": {},
   "outputs": [],
   "source": [
    "# 9. Using the Insert method to insert \"lemon\""
   ]
  },
  {
   "cell_type": "code",
   "execution_count": 157,
   "metadata": {},
   "outputs": [
    {
     "name": "stdout",
     "output_type": "stream",
     "text": [
      "['apple', 'banana', 'cherry', 'lemon']\n"
     ]
    }
   ],
   "source": [
    "My_Set = [\"apple\", \"banana\", \"cherry\"]\n",
    "My_Set.insert(4, \"lemon\")\n",
    "print(My_Set)"
   ]
  },
  {
   "cell_type": "code",
   "execution_count": null,
   "metadata": {},
   "outputs": [],
   "source": [
    "# 10. Using the remove method to remove banana"
   ]
  },
  {
   "cell_type": "code",
   "execution_count": 232,
   "metadata": {},
   "outputs": [
    {
     "name": "stdout",
     "output_type": "stream",
     "text": [
      "\n"
     ]
    }
   ],
   "source": [
    "My_Set = [\"apple\", \"banana\", \"cherry\"]\n",
    "My_Set.remove(\"banana\")\n",
    "print()"
   ]
  },
  {
   "cell_type": "code",
   "execution_count": 141,
   "metadata": {},
   "outputs": [
    {
     "data": {
      "text/plain": [
       "['apple', 'cherry']"
      ]
     },
     "execution_count": 141,
     "metadata": {},
     "output_type": "execute_result"
    }
   ],
   "source": [
    "My_Set"
   ]
  },
  {
   "cell_type": "code",
   "execution_count": null,
   "metadata": {},
   "outputs": [],
   "source": [
    "# 11. Using negative indices"
   ]
  },
  {
   "cell_type": "code",
   "execution_count": 170,
   "metadata": {},
   "outputs": [
    {
     "name": "stdout",
     "output_type": "stream",
     "text": [
      "Element at index -2 melon\n",
      "Element at index -3 kiwi\n"
     ]
    }
   ],
   "source": [
    "My_FruitList = [\"apple\", \"banana\", \"cherry\", \"orange\", \"kiwi\", \"melon\", \"mango\"]\n",
    "print(\"Element at index -2\", My_FruitList[-2])\n",
    "print(\"Element at index -3\", My_FruitList[-3])"
   ]
  },
  {
   "cell_type": "code",
   "execution_count": null,
   "metadata": {},
   "outputs": [],
   "source": [
    "# 12. Using a range of indeces to print 3rd, fourth and fith items"
   ]
  },
  {
   "cell_type": "code",
   "execution_count": 211,
   "metadata": {},
   "outputs": [
    {
     "name": "stdout",
     "output_type": "stream",
     "text": [
      "3rd element at index 3 orange\n",
      "fourth element at index -3 kiwi\n",
      "fith element at index -2 melon\n"
     ]
    }
   ],
   "source": [
    "My_FruitList = [\"apple\", \"banana\", \"cherry\", \"orange\", \"kiwi\", \"melon\", \"mango\"]\n",
    "print( \"3rd element at index 3\", My_FruitList[3])\n",
    "print(\"fourth element at index -3\", My_FruitList[-3])\n",
    "print(\"fith element at index -2\", My_FruitList[-2])"
   ]
  },
  {
   "cell_type": "code",
   "execution_count": null,
   "metadata": {},
   "outputs": [],
   "source": [
    "# 13. Correct Syntax to print the number of items"
   ]
  },
  {
   "cell_type": "code",
   "execution_count": 179,
   "metadata": {},
   "outputs": [
    {
     "data": {
      "text/plain": [
       "7"
      ]
     },
     "execution_count": 179,
     "metadata": {},
     "output_type": "execute_result"
    }
   ],
   "source": [
    "My_FruitList = [\"apple\", \"banana\", \"cherry\", \"orange\", \"kiwi\", \"melon\", \"mango\"]\n",
    "len(My_FruitList)"
   ]
  },
  {
   "cell_type": "code",
   "execution_count": null,
   "metadata": {},
   "outputs": [],
   "source": [
    "# 14. Reverse order"
   ]
  },
  {
   "cell_type": "code",
   "execution_count": 182,
   "metadata": {},
   "outputs": [
    {
     "name": "stdout",
     "output_type": "stream",
     "text": [
      "['mango', 'melon', 'kiwi', 'orange', 'cherry', 'banana', 'apple']\n"
     ]
    }
   ],
   "source": [
    "My_FruitList = [\"apple\", \"banana\", \"cherry\", \"orange\", \"kiwi\", \"melon\", \"mango\"]\n",
    "My_FruitList.reverse()\n",
    "print(My_FruitList)"
   ]
  },
  {
   "cell_type": "code",
   "execution_count": null,
   "metadata": {},
   "outputs": [],
   "source": [
    "# 15. Using DateTime module"
   ]
  },
  {
   "cell_type": "code",
   "execution_count": 190,
   "metadata": {},
   "outputs": [
    {
     "name": "stdout",
     "output_type": "stream",
     "text": [
      "Current Date and Time ... 2025-01-13 00:30:34.268737\n",
      "current time now... 2025-01-13 00:30:34.268737\n"
     ]
    }
   ],
   "source": [
    "import datetime as dt\n",
    "a = dt.datetime.now()\n",
    "print(\"Current Date and Time ...\", a)\n",
    "print(\"current time now...\", a)"
   ]
  },
  {
   "cell_type": "code",
   "execution_count": null,
   "metadata": {},
   "outputs": [],
   "source": [
    "# 16. Simple function with 2 parameters"
   ]
  },
  {
   "cell_type": "code",
   "execution_count": 226,
   "metadata": {},
   "outputs": [
    {
     "name": "stdout",
     "output_type": "stream",
     "text": [
      "Hi! Wilson Happy Sunday!\n",
      "Happy Sunday!\n",
      "Hi! Wilson\n"
     ]
    }
   ],
   "source": [
    "x = (\"Wilson\", \"Sunday!\")\n",
    "print(\"Hi!\", x[0],\"Happy\", x[1])\n",
    "print(\"Happy\", x[1])\n",
    "print(\"Hi!\", x[0])\n",
    "\n"
   ]
  },
  {
   "cell_type": "code",
   "execution_count": null,
   "metadata": {},
   "outputs": [],
   "source": [
    "#17. HANDLING ONE OF THE MOST COMMON EXCEPTIONS"
   ]
  },
  {
   "cell_type": "code",
   "execution_count": 231,
   "metadata": {},
   "outputs": [
    {
     "name": "stdout",
     "output_type": "stream",
     "text": [
      "incomplete input\n",
      "The 'try except' is finished\n"
     ]
    }
   ],
   "source": [
    "try:\n",
    "    print(test)\n",
    "except:\n",
    "    print(\"incomplete input\")\n",
    "finally:\n",
    "    print(\"The 'try except' is finished\")"
   ]
  }
 ],
 "metadata": {
  "celltoolbar": "Slideshow",
  "kernelspec": {
   "display_name": "Python 3",
   "language": "python",
   "name": "python3"
  },
  "language_info": {
   "codemirror_mode": {
    "name": "ipython",
    "version": 3
   },
   "file_extension": ".py",
   "mimetype": "text/x-python",
   "name": "python",
   "nbconvert_exporter": "python",
   "pygments_lexer": "ipython3",
   "version": "3.13.1"
  }
 },
 "nbformat": 4,
 "nbformat_minor": 2
}
