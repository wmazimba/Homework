{
 "cells": [
  {
   "cell_type": "markdown",
   "metadata": {},
   "source": [
    "#### Wilson Mazimba Homework3 - Revised\n",
    "### 1. Use markdown formatting:\n",
    "\n",
    "#### What is an Algorith\n",
    "### An Algorithm is a series of steps to solve a problem\n",
    "## Variables may not start with a number and a forward slash\n",
    "## A Semantic Error is a correct command but cannot be comprehended by the computer or it does not make sense to produce the expected results.\n",
    "## The number one rule of coding is to avoid complexity and to follow a copnsistent way of coding. The number one rule of debugging is to thoroughly understand the system you are trying to debug\n",
    "## Five reserved words: and, lamda, if, del, elif, except, finally\n"
   ]
  },
  {
   "cell_type": "code",
   "execution_count": 213,
   "metadata": {},
   "outputs": [
    {
     "name": "stdout",
     "output_type": "stream",
     "text": [
      "['(\"Wilson Mazimba\", \"favorite food Nshima\", \"lives in st louis\", \"my favoorite food is Nshima\", \"and My dream job\", \"is data scientist\")']\n"
     ]
    }
   ],
   "source": [
    "\n",
    "#### 6. Write a multiline string with your name, favourite food, and dream job on 3 different lines:\n",
    "a = [\"\"\"(\"Wilson Mazimba\", \"favorite food Nshima\", \"lives in st louis\", \"my favoorite food is Nshima\", \"and My dream job\", \"is data scientist\")\"\"\"]\n",
    "print(a)"
   ]
  },
  {
   "cell_type": "markdown",
   "metadata": {},
   "source": [
    "7. Assign 5 different data types to 5 different variables, At least one of them must be a string."
   ]
  },
  {
   "cell_type": "code",
   "execution_count": 220,
   "metadata": {},
   "outputs": [
    {
     "name": "stdout",
     "output_type": "stream",
     "text": [
      "['Wilson Mazimba', '50.5', {'cherry', 'Orange'}, 'g', 'False']\n"
     ]
    }
   ],
   "source": [
    "b = [\"Wilson Mazimba\",\"50.5\", {\"cherry\", \"Orange\"}, \"g\", \"False\"]\n",
    "print(b)"
   ]
  },
  {
   "cell_type": "code",
   "execution_count": 222,
   "metadata": {},
   "outputs": [
    {
     "data": {
      "text/plain": [
       "5"
      ]
     },
     "execution_count": 222,
     "metadata": {},
     "output_type": "execute_result"
    }
   ],
   "source": [
    "b = [\"Wilson Mazimba\", \"50.5\", {\"cherry\", \"Orange\"}, \"g\", \"False\"]\n",
    "len(b)"
   ]
  },
  {
   "cell_type": "code",
   "execution_count": 223,
   "metadata": {},
   "outputs": [
    {
     "name": "stdout",
     "output_type": "stream",
     "text": [
      "(50.5, 'Wilson Mazimba', {'cherry', 'Orange'})\n"
     ]
    }
   ],
   "source": [
    "b = float(\"50.5\"), str(\"Wilson Mazimba\"), {\"cherry\", \"Orange\"}\n",
    "print(b)"
   ]
  },
  {
   "cell_type": "code",
   "execution_count": 224,
   "metadata": {},
   "outputs": [
    {
     "name": "stdout",
     "output_type": "stream",
     "text": [
      "o\n"
     ]
    }
   ],
   "source": [
    "b = [\"Wilson Mazimba\", \"50.5\", {\"cherry\", \"Orange\"}, \"g\", \"False\"]\n",
    "print(L[4])"
   ]
  },
  {
   "cell_type": "code",
   "execution_count": 58,
   "metadata": {},
   "outputs": [
    {
     "name": "stdout",
     "output_type": "stream",
     "text": [
      "son\n"
     ]
    }
   ],
   "source": [
    "L = \"Wilson Mazimba\"\n",
    "print(L[3:6])"
   ]
  },
  {
   "cell_type": "code",
   "execution_count": 226,
   "metadata": {},
   "outputs": [
    {
     "name": "stdout",
     "output_type": "stream",
     "text": [
      "Savvy\n",
      "<class 'str'>\n"
     ]
    }
   ],
   "source": [
    "x = \"Savvy\"\n",
    "str(\"Learning Data Analytics and Python is Awesome!\")\n",
    "print(x)\n",
    "print(str)"
   ]
  },
  {
   "cell_type": "code",
   "execution_count": 1,
   "metadata": {},
   "outputs": [
    {
     "data": {
      "text/plain": [
       "'ing Data Analytics '"
      ]
     },
     "execution_count": 1,
     "metadata": {},
     "output_type": "execute_result"
    }
   ],
   "source": [
    "x = \"Learning Data Analytics and Python is Awesome!\"\n",
    "x[5:24]  "
   ]
  },
  {
   "cell_type": "code",
   "execution_count": 64,
   "metadata": {},
   "outputs": [
    {
     "name": "stdout",
     "output_type": "stream",
     "text": [
      "Learning Data Analytics and Python is great!\n"
     ]
    }
   ],
   "source": [
    "x = \"Learning Data Analytics and Python is Awesome!\"\n",
    "j = x.replace(\"Awesome\", \"great\")\n",
    "print(j)\n",
    "              "
   ]
  },
  {
   "cell_type": "code",
   "execution_count": 17,
   "metadata": {},
   "outputs": [
    {
     "name": "stdout",
     "output_type": "stream",
     "text": [
      "('name', 'age', 'length')\n"
     ]
    }
   ],
   "source": [
    "y = (\"name\", \"age\", \"length\")\n",
    "print(y)\n"
   ]
  },
  {
   "cell_type": "code",
   "execution_count": 227,
   "metadata": {},
   "outputs": [
    {
     "name": "stdout",
     "output_type": "stream",
     "text": [
      "{'Hi my name is Wilson Mazimba', 'I am 6.7 mettres', 'and 65 years old today'}\n"
     ]
    }
   ],
   "source": [
    "miniBio = {\"Hi my name is Wilson Mazimba\", \"I am 6.7 mettres\", \"and 65 years old today\"}\n",
    "print(miniBio)"
   ]
  },
  {
   "cell_type": "code",
   "execution_count": 68,
   "metadata": {},
   "outputs": [
    {
     "name": "stdout",
     "output_type": "stream",
     "text": [
      "65.5\n"
     ]
    }
   ],
   "source": [
    "age = (65)\n",
    "age1 = float(65.5)\n",
    "print(age1)"
   ]
  },
  {
   "cell_type": "code",
   "execution_count": 234,
   "metadata": {},
   "outputs": [
    {
     "name": "stdout",
     "output_type": "stream",
     "text": [
      "('Good Morning', '15', '157.5', 'apples', '{Oranges', 'pawpaw', {'jam', 'mango', 'berries'})\n"
     ]
    }
   ],
   "source": [
    "group = \"Good Morning\", \"15\", \"157.5\", \"apples\", \"{Oranges\", \"pawpaw\", {\"mango\", \"berries\", \"jam\"}\n",
    "print(group)                                         "
   ]
  },
  {
   "cell_type": "code",
   "execution_count": 252,
   "metadata": {},
   "outputs": [
    {
     "ename": "AttributeError",
     "evalue": "'list' object has no attribute 'replace'",
     "output_type": "error",
     "traceback": [
      "\u001b[1;31m---------------------------------------------------------------------------\u001b[0m",
      "\u001b[1;31mAttributeError\u001b[0m                            Traceback (most recent call last)",
      "Cell \u001b[1;32mIn[252], line 2\u001b[0m\n\u001b[0;32m      1\u001b[0m group \u001b[38;5;241m=\u001b[39m [\u001b[38;5;124m\"\u001b[39m\u001b[38;5;124mGood Morning\u001b[39m\u001b[38;5;124m\"\u001b[39m, \u001b[38;5;124m\"\u001b[39m\u001b[38;5;124m15\u001b[39m\u001b[38;5;124m\"\u001b[39m, \u001b[38;5;124m\"\u001b[39m\u001b[38;5;124m157.5\u001b[39m\u001b[38;5;124m\"\u001b[39m, \u001b[38;5;124m\"\u001b[39m\u001b[38;5;124mapples\u001b[39m\u001b[38;5;124m\"\u001b[39m, \u001b[38;5;124m\"\u001b[39m\u001b[38;5;124mOranges\u001b[39m\u001b[38;5;124m\"\u001b[39m, \u001b[38;5;124m\"\u001b[39m\u001b[38;5;124mpawpaw\u001b[39m\u001b[38;5;124m\"\u001b[39m, {\u001b[38;5;124m\"\u001b[39m\u001b[38;5;124mmango\u001b[39m\u001b[38;5;124m\"\u001b[39m, \u001b[38;5;124m\"\u001b[39m\u001b[38;5;124mberries\u001b[39m\u001b[38;5;124m\"\u001b[39m, \u001b[38;5;124m\"\u001b[39m\u001b[38;5;124mjam\u001b[39m\u001b[38;5;124m\"\u001b[39m}]\n\u001b[1;32m----> 2\u001b[0m Newgroup \u001b[38;5;241m=\u001b[39m \u001b[43mgroup\u001b[49m\u001b[38;5;241;43m.\u001b[39;49m\u001b[43mreplace\u001b[49m(\u001b[38;5;124m\"\u001b[39m\u001b[38;5;124mGood Morning\u001b[39m\u001b[38;5;124m\"\u001b[39m, \u001b[38;5;124m\"\u001b[39m\u001b[38;5;124mGood Evening\u001b[39m\u001b[38;5;124m\"\u001b[39m)\n\u001b[0;32m      3\u001b[0m \u001b[38;5;28mprint\u001b[39m(group)\n",
      "\u001b[1;31mAttributeError\u001b[0m: 'list' object has no attribute 'replace'"
     ]
    }
   ],
   "source": [
    "group = [\"Good Morning\", \"15\", \"157.5\", \"apples\", \"Oranges\", \"pawpaw\", {\"mango\", \"berries\", \"jam\"}]\n",
    "Newgroup = group.replace(\"Good Morning\", \"Good Evening\")\n",
    "print(group)\n"
   ]
  },
  {
   "cell_type": "code",
   "execution_count": 253,
   "metadata": {},
   "outputs": [
    {
     "ename": "AttributeError",
     "evalue": "'tuple' object has no attribute 'replace'",
     "output_type": "error",
     "traceback": [
      "\u001b[1;31m---------------------------------------------------------------------------\u001b[0m",
      "\u001b[1;31mAttributeError\u001b[0m                            Traceback (most recent call last)",
      "Cell \u001b[1;32mIn[253], line 2\u001b[0m\n\u001b[0;32m      1\u001b[0m x \u001b[38;5;241m=\u001b[39m \u001b[38;5;124m'\u001b[39m\u001b[38;5;124mGood Morning\u001b[39m\u001b[38;5;124m'\u001b[39m, \u001b[38;5;124m'\u001b[39m\u001b[38;5;124m15\u001b[39m\u001b[38;5;124m'\u001b[39m, \u001b[38;5;124m'\u001b[39m\u001b[38;5;124m157.5\u001b[39m\u001b[38;5;124m'\u001b[39m, [\u001b[38;5;124m'\u001b[39m\u001b[38;5;124mapples\u001b[39m\u001b[38;5;124m'\u001b[39m, \u001b[38;5;124m'\u001b[39m\u001b[38;5;124mOranges\u001b[39m\u001b[38;5;124m'\u001b[39m, \u001b[38;5;124m'\u001b[39m\u001b[38;5;124mpawpaw\u001b[39m\u001b[38;5;124m'\u001b[39m], {\u001b[38;5;124m'\u001b[39m\u001b[38;5;124mmango\u001b[39m\u001b[38;5;124m'\u001b[39m, \u001b[38;5;124m'\u001b[39m\u001b[38;5;124mberries\u001b[39m\u001b[38;5;124m'\u001b[39m, \u001b[38;5;124m'\u001b[39m\u001b[38;5;124mjam\u001b[39m\u001b[38;5;124m'\u001b[39m}\n\u001b[1;32m----> 2\u001b[0m l \u001b[38;5;241m=\u001b[39m \u001b[43mx\u001b[49m\u001b[38;5;241;43m.\u001b[39;49m\u001b[43mreplace\u001b[49m(\u001b[38;5;124m'\u001b[39m\u001b[38;5;124m157.5\u001b[39m\u001b[38;5;124m'\u001b[39m, \u001b[38;5;124m'\u001b[39m\u001b[38;5;124m700.2\u001b[39m\u001b[38;5;124m'\u001b[39m)\n\u001b[0;32m      3\u001b[0m \u001b[38;5;28mprint\u001b[39m(l)\n",
      "\u001b[1;31mAttributeError\u001b[0m: 'tuple' object has no attribute 'replace'"
     ]
    }
   ],
   "source": [
    " x = 'Good Morning', '15', '157.5', ['apples', 'Oranges', 'pawpaw'], {'mango', 'berries', 'jam'}\n",
    "l = x.replace('157.5', '700.2')\n",
    "print(l)"
   ]
  },
  {
   "cell_type": "code",
   "execution_count": 255,
   "metadata": {},
   "outputs": [
    {
     "ename": "SyntaxError",
     "evalue": "invalid syntax (2475804370.py, line 1)",
     "output_type": "error",
     "traceback": [
      "\u001b[1;36m  Cell \u001b[1;32mIn[255], line 1\u001b[1;36m\u001b[0m\n\u001b[1;33m    Cell In[34], line 1\u001b[0m\n\u001b[1;37m         ^\u001b[0m\n\u001b[1;31mSyntaxError\u001b[0m\u001b[1;31m:\u001b[0m invalid syntax\n"
     ]
    }
   ],
   "source": [
    "Cell In[34], line 1\n",
    "x = ('Good Morning', '15', '157.5', 'apples', 'Oranges', 'pawpaw', 'mango', 'berries', 'jam')\n",
    "i = ('mats', 'books', 'tables')\n",
    "j = x + i\n",
    "print(j)"
   ]
  },
  {
   "cell_type": "code",
   "execution_count": 39,
   "metadata": {},
   "outputs": [
    {
     "data": {
      "text/plain": [
       "46"
      ]
     },
     "execution_count": 39,
     "metadata": {},
     "output_type": "execute_result"
    }
   ],
   "source": [
    "len(x)"
   ]
  },
  {
   "cell_type": "code",
   "execution_count": 40,
   "metadata": {},
   "outputs": [
    {
     "name": "stdout",
     "output_type": "stream",
     "text": [
      "('Hello', 'my', 'dear', 'friend', 'Wilson')\n"
     ]
    }
   ],
   "source": [
    "simList = (\"Hello\", \"my\", \"dear\", \"friend\", \"Wilson\")\n",
    "print(simList)"
   ]
  },
  {
   "cell_type": "code",
   "execution_count": 71,
   "metadata": {},
   "outputs": [
    {
     "name": "stdout",
     "output_type": "stream",
     "text": [
      "('Hello', 'my', 'dear', 'friend', 'Wilson', 'tables', 'chairs', 'tvs')\n"
     ]
    }
   ],
   "source": [
    "simList = ('Hello', 'my', 'dear', 'friend', 'Wilson')\n",
    "goods = ('tables', 'chairs', 'tvs')\n",
    "Assets = simList + goods\n",
    "print(Assets)"
   ]
  },
  {
   "cell_type": "code",
   "execution_count": 91,
   "metadata": {},
   "outputs": [
    {
     "name": "stdout",
     "output_type": "stream",
     "text": [
      "('Hello', 'my', 'dear', 'friend', 'Wilson', 'tables', 'chairs', 'tvs', 'Hello', 'my', 'dear', 'friend', 'Wilson', 'tables,chairs', 'tvs')\n"
     ]
    }
   ],
   "source": [
    "simList = ('Hello', 'my', 'dear', 'friend', 'Wilson')\n",
    "goods = ('tables', 'chairs', 'tvs')\n",
    "Assets = ('Hello', 'my', 'dear', 'friend', 'Wilson', 'tables,' 'chairs', 'tvs')\n",
    "Invest = simList + goods + Assets\n",
    "print(Invest)"
   ]
  },
  {
   "cell_type": "code",
   "execution_count": 94,
   "metadata": {},
   "outputs": [
    {
     "name": "stdout",
     "output_type": "stream",
     "text": [
      "folk\n"
     ]
    }
   ],
   "source": [
    "tuple = ('cup', 'mug', 'spoon', 'folk', 'plate')*3\n",
    "print(tuple[13])\n"
   ]
  },
  {
   "cell_type": "code",
   "execution_count": 96,
   "metadata": {},
   "outputs": [
    {
     "name": "stdout",
     "output_type": "stream",
     "text": [
      "('cup', 'folk', 'mug', 'plate', 'spoon', 'cup', 'folk', 'mug', 'plate', 'spoon', 'cup', 'folk', 'mug', 'plate', 'spoon')\n"
     ]
    }
   ],
   "source": [
    "tuple2 = ('cup','folk' ,'mug', 'plate', 'spoon',)*3\n",
    "print(tuple2)"
   ]
  },
  {
   "cell_type": "code",
   "execution_count": 108,
   "metadata": {},
   "outputs": [
    {
     "name": "stdout",
     "output_type": "stream",
     "text": [
      "spoon\n",
      "plate\n",
      "mug\n",
      "folk\n"
     ]
    }
   ],
   "source": [
    "tuple3 = ('folk' ,'mug', 'plate', 'spoon')\n",
    "print(tuple3[3])\n",
    "print(tuple3[2])\n",
    "print(tuple3[1])\n",
    "print(tuple3[0])"
   ]
  },
  {
   "cell_type": "code",
   "execution_count": 109,
   "metadata": {},
   "outputs": [
    {
     "name": "stdout",
     "output_type": "stream",
     "text": [
      "50\n"
     ]
    }
   ],
   "source": [
    "tuple4 = (50)\n",
    "print(tuple4)"
   ]
  },
  {
   "cell_type": "code",
   "execution_count": 110,
   "metadata": {},
   "outputs": [
    {
     "name": "stdout",
     "output_type": "stream",
     "text": [
      "('cup', 'folk', 'mug', 'plate', 'spoon', 'cup', 'folk', 'mug', 'plate', 'spoon')\n"
     ]
    }
   ],
   "source": [
    "tuple2 = ('cup','folk' ,'mug', 'plate', 'spoon')\n",
    "tuple3 = ('folk' ,'mug', 'plate', 'spoon')\n",
    "tuple5 = tuple2 + tuple2\n",
    "print(tuple5)"
   ]
  },
  {
   "cell_type": "code",
   "execution_count": 114,
   "metadata": {},
   "outputs": [
    {
     "name": "stdout",
     "output_type": "stream",
     "text": [
      "('Mary', 258, 'selina', 'banana', 'Mango', 'apple', 'Lemon')\n"
     ]
    }
   ],
   "source": [
    "Names = (\"Mary\", 258, \"selina\")\n",
    "fruits = (\"banana\", \"Mango\", \"apple\", \"Lemon\")\n",
    "fruits1 = Names + fruits\n",
    "print(fruits1)"
   ]
  },
  {
   "cell_type": "code",
   "execution_count": 256,
   "metadata": {},
   "outputs": [
    {
     "ename": "TypeError",
     "evalue": "unsupported operand type(s) for +: 'set' and 'set'",
     "output_type": "error",
     "traceback": [
      "\u001b[1;31m---------------------------------------------------------------------------\u001b[0m",
      "\u001b[1;31mTypeError\u001b[0m                                 Traceback (most recent call last)",
      "Cell \u001b[1;32mIn[256], line 3\u001b[0m\n\u001b[0;32m      1\u001b[0m fruits1 \u001b[38;5;241m=\u001b[39m {\u001b[38;5;124m'\u001b[39m\u001b[38;5;124mMary\u001b[39m\u001b[38;5;124m'\u001b[39m,\u001b[38;5;124m'\u001b[39m\u001b[38;5;124mjoseph\u001b[39m\u001b[38;5;124m'\u001b[39m, \u001b[38;5;124m'\u001b[39m\u001b[38;5;124mselina\u001b[39m\u001b[38;5;124m'\u001b[39m, \u001b[38;5;124m'\u001b[39m\u001b[38;5;124mbanana\u001b[39m\u001b[38;5;124m'\u001b[39m, \u001b[38;5;124m'\u001b[39m\u001b[38;5;124mMango\u001b[39m\u001b[38;5;124m'\u001b[39m, \u001b[38;5;124m'\u001b[39m\u001b[38;5;124mLemon\u001b[39m\u001b[38;5;124m'\u001b[39m}\n\u001b[0;32m      2\u001b[0m j \u001b[38;5;241m=\u001b[39m {\u001b[38;5;124m'\u001b[39m\u001b[38;5;124mcar\u001b[39m\u001b[38;5;124m'\u001b[39m} \n\u001b[1;32m----> 3\u001b[0m list5 \u001b[38;5;241m=\u001b[39m \u001b[43mfruits1\u001b[49m\u001b[43m \u001b[49m\u001b[38;5;241;43m+\u001b[39;49m\u001b[43m \u001b[49m\u001b[43mj\u001b[49m\n\u001b[0;32m      4\u001b[0m \u001b[38;5;28mprint\u001b[39m(list5)\n",
      "\u001b[1;31mTypeError\u001b[0m: unsupported operand type(s) for +: 'set' and 'set'"
     ]
    }
   ],
   "source": [
    "fruits1 = {'Mary','joseph', 'selina', 'banana', 'Mango', 'Lemon'}\n",
    "j = {'car'} \n",
    "list5 = fruits1 + j\n",
    "print(list5)"
   ]
  },
  {
   "cell_type": "markdown",
   "metadata": {},
   "source": [
    "## Please explain why the above is unsupported!!"
   ]
  },
  {
   "cell_type": "code",
   "execution_count": 133,
   "metadata": {},
   "outputs": [
    {
     "name": "stdout",
     "output_type": "stream",
     "text": [
      "('one', 'three', 'five', 'seven', 'Mary', 'joseph', 'selina', 'banana', 'Mango', 'Lemon')\n"
     ]
    }
   ],
   "source": [
    "odd = ('one', 'three', 'five', 'seven')\n",
    "fruits1 = ('Mary','joseph', 'selina', 'banana', 'Mango', 'Lemon')\n",
    "Union = odd + fruits1\n",
    "print(Union)"
   ]
  },
  {
   "cell_type": "code",
   "execution_count": 150,
   "metadata": {},
   "outputs": [
    {
     "name": "stdout",
     "output_type": "stream",
     "text": [
      "one\n"
     ]
    }
   ],
   "source": [
    "x = {\"one\", \"three\", \"five\", \"seven\", \"joseph\", \"selina\", \"banana\", \"mango\", \"Lemon\"}\n",
    "y = x.pop()\n",
    "print(y)"
   ]
  },
  {
   "cell_type": "code",
   "execution_count": 154,
   "metadata": {},
   "outputs": [
    {
     "name": "stdout",
     "output_type": "stream",
     "text": [
      "Joseph\n",
      "{'seven', 'banana', 'mango'}\n"
     ]
    }
   ],
   "source": [
    "x = {'seven', 'Joseph', 'banana', 'mango'}\n",
    "y = x.pop()\n",
    "print(y)\n",
    "print(x)"
   ]
  },
  {
   "cell_type": "code",
   "execution_count": 156,
   "metadata": {},
   "outputs": [
    {
     "name": "stdout",
     "output_type": "stream",
     "text": [
      "Mango\n",
      "{'Lemon', 'banana', 'selina', 'Mary', 'joseph'}\n"
     ]
    }
   ],
   "source": [
    "fruits1 = {'Mary','joseph', 'selina', 'banana', 'Mango', 'Lemon'}\n",
    "y = fruits1.pop()\n",
    "print(y)\n",
    "print(fruits1)"
   ]
  },
  {
   "cell_type": "code",
   "execution_count": 157,
   "metadata": {},
   "outputs": [
    {
     "name": "stdout",
     "output_type": "stream",
     "text": [
      "{'banana', 'selina', 'Mary', 'joseph'}\n",
      "Lemon\n"
     ]
    }
   ],
   "source": [
    "Remove_another = {'Lemon', 'banana', 'selina', 'Mary', 'joseph'}\n",
    "Remove_another2 = Remove_another.pop()\n",
    "print(Remove_another)\n",
    "print(Remove_another2)"
   ]
  },
  {
   "cell_type": "code",
   "execution_count": 172,
   "metadata": {},
   "outputs": [
    {
     "name": "stdout",
     "output_type": "stream",
     "text": [
      "age\n"
     ]
    }
   ],
   "source": [
    "Dic = {'My', 'Name', 'and', 'age', 'is', 'Wilson', 65, 'True'}\n",
    "Dic2 = Dic.pop()\n",
    "print (Dic2)"
   ]
  },
  {
   "cell_type": "code",
   "execution_count": 260,
   "metadata": {},
   "outputs": [
    {
     "ename": "AttributeError",
     "evalue": "'list' object has no attribute 'replace'",
     "output_type": "error",
     "traceback": [
      "\u001b[1;31m---------------------------------------------------------------------------\u001b[0m",
      "\u001b[1;31mAttributeError\u001b[0m                            Traceback (most recent call last)",
      "Cell \u001b[1;32mIn[260], line 2\u001b[0m\n\u001b[0;32m      1\u001b[0m Dic \u001b[38;5;241m=\u001b[39m [\u001b[38;5;124m'\u001b[39m\u001b[38;5;124mMy\u001b[39m\u001b[38;5;124m'\u001b[39m, \u001b[38;5;124m'\u001b[39m\u001b[38;5;124mName\u001b[39m\u001b[38;5;124m'\u001b[39m, \u001b[38;5;124m'\u001b[39m\u001b[38;5;124mand\u001b[39m\u001b[38;5;124m'\u001b[39m, \u001b[38;5;124m'\u001b[39m\u001b[38;5;124mage\u001b[39m\u001b[38;5;124m'\u001b[39m,\u001b[38;5;124m'\u001b[39m\u001b[38;5;124mis\u001b[39m\u001b[38;5;124m'\u001b[39m,\u001b[38;5;124m'\u001b[39m\u001b[38;5;124mWilson\u001b[39m\u001b[38;5;124m'\u001b[39m, \u001b[38;5;241m65\u001b[39m,\u001b[38;5;124m'\u001b[39m\u001b[38;5;124mTrue\u001b[39m\u001b[38;5;124m'\u001b[39m]\n\u001b[1;32m----> 2\u001b[0m Dic2 \u001b[38;5;241m=\u001b[39m \u001b[43mDic\u001b[49m\u001b[38;5;241;43m.\u001b[39;49m\u001b[43mreplace\u001b[49m(\u001b[38;5;124m\"\u001b[39m\u001b[38;5;124mWilson\u001b[39m\u001b[38;5;124m\"\u001b[39m, \u001b[38;5;124m\"\u001b[39m\u001b[38;5;124mKapembwa\u001b[39m\u001b[38;5;124m\"\u001b[39m) \n\u001b[0;32m      3\u001b[0m \u001b[38;5;28mprint\u001b[39m(Dic)\n",
      "\u001b[1;31mAttributeError\u001b[0m: 'list' object has no attribute 'replace'"
     ]
    }
   ],
   "source": [
    "Dic = ['My', 'Name', 'and', 'age','is','Wilson', 65,'True']\n",
    "Dic2 = Dic.replace(\"Wilson\", \"Kapembwa\") \n",
    "print(Dic)"
   ]
  }
 ],
 "metadata": {
  "kernelspec": {
   "display_name": "Python 3",
   "language": "python",
   "name": "python3"
  },
  "language_info": {
   "codemirror_mode": {
    "name": "ipython",
    "version": 3
   },
   "file_extension": ".py",
   "mimetype": "text/x-python",
   "name": "python",
   "nbconvert_exporter": "python",
   "pygments_lexer": "ipython3",
   "version": "3.13.1"
  }
 },
 "nbformat": 4,
 "nbformat_minor": 2
}
