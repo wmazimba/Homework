{
 "cells": [
  {
   "cell_type": "code",
   "execution_count": 8,
   "metadata": {},
   "outputs": [],
   "source": [
    "from dotenv import load_dotenv\n",
    "import os\n",
    "import requests"
   ]
  },
  {
   "cell_type": "code",
   "execution_count": 6,
   "metadata": {},
   "outputs": [
    {
     "name": "stdout",
     "output_type": "stream",
     "text": [
      "0db5f183dc453934ba9054d3367196f0\n"
     ]
    }
   ],
   "source": [
    "load_dotenv(dotenv_path=r'C:\\Users\\Wilsom Mazimba\\SavvyCoders\\Homework\\.ENV')\n",
    "my_api_key = os.getenv('API_KEY')\n",
    "print(my_api_key)"
   ]
  },
  {
   "cell_type": "code",
   "execution_count": 9,
   "metadata": {},
   "outputs": [],
   "source": [
    "city = 'Philadelphia'\n",
    "units = 'imperial'\n",
    "URL = f\"https://api.openweathermap.org/data/2.5/weather?q={city}&appid={my_api_key}&units={units}\""
   ]
  },
  {
   "cell_type": "code",
   "execution_count": 10,
   "metadata": {},
   "outputs": [
    {
     "name": "stdout",
     "output_type": "stream",
     "text": [
      "{\"coord\":{\"lon\":-75.1638,\"lat\":39.9523},\"weather\":[{\"id\":803,\"main\":\"Clouds\",\"description\":\"broken clouds\",\"icon\":\"04n\"}],\"base\":\"stations\",\"main\":{\"temp\":44.64,\"feels_like\":42.21,\"temp_min\":40.55,\"temp_max\":46.87,\"pressure\":1011,\"humidity\":82,\"sea_level\":1011,\"grnd_level\":1006},\"visibility\":10000,\"wind\":{\"speed\":4.61,\"deg\":230},\"clouds\":{\"all\":75},\"dt\":1738639022,\"sys\":{\"type\":2,\"id\":2037403,\"country\":\"US\",\"sunrise\":1738584417,\"sunset\":1738621322},\"timezone\":-18000,\"id\":4560349,\"name\":\"Philadelphia\",\"cod\":200}\n"
     ]
    }
   ],
   "source": [
    "response = requests.get(URL)\n",
    "print(response.text)\n"
   ]
  },
  {
   "cell_type": "code",
   "execution_count": null,
   "metadata": {},
   "outputs": [],
   "source": []
  }
 ],
 "metadata": {
  "celltoolbar": "Slideshow",
  "kernelspec": {
   "display_name": "Python 3",
   "language": "python",
   "name": "python3"
  },
  "language_info": {
   "codemirror_mode": {
    "name": "ipython",
    "version": 3
   },
   "file_extension": ".py",
   "mimetype": "text/x-python",
   "name": "python",
   "nbconvert_exporter": "python",
   "pygments_lexer": "ipython3",
   "version": "3.13.1"
  }
 },
 "nbformat": 4,
 "nbformat_minor": 2
}
