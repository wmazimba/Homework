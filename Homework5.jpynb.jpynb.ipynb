{
 "cells": [
  {
   "cell_type": "markdown",
   "metadata": {},
   "source": [
    "## **Wilson Mazimba Hoemwork5.**\n",
    "## 1.  What does Pandas satnd for?\n",
    "### Pandas stand for panel data as it referneces, both panel data and python data.\n",
    "\n",
    "## 2. what are the 2 collections used in Pandas\n",
    "### Pandas primarily uses series and DataFrame as the two main data structures\n",
    "\n",
    "## 3. Name 4 things Pandas can do for us\n",
    "### Pandas can do data cleaning, data normalisation, data visualisation and data inspection\n",
    "\n",
    "## 4. To permanently sort a DataFrame, which keyword should one use with the 'df.sort()' method?\n",
    "### To permanently sort a DataFrame, we use the 'df.sort()' method with the inplace parameter set to 'True'(inplace = True)\n",
    "\n",
    "## 5. What is a CSV file?\n",
    "### A CSV file is a Comma Seperated variables file\n",
    "\n",
    "## 6. When cleaning data, what values do we not like in our data?\n",
    "### We dont like NULL values"
   ]
  },
  {
   "cell_type": "markdown",
   "metadata": {},
   "source": [
    "## **Please Complete this Coding Exercise:**"
   ]
  },
  {
   "cell_type": "code",
   "execution_count": 511,
   "metadata": {},
   "outputs": [
    {
     "name": "stdout",
     "output_type": "stream",
     "text": [
      "[2 2 3]\n"
     ]
    }
   ],
   "source": [
    "7. # Import NumPy, use one of the NumPy methods and create an array with a shape of (2, 3, 2). You can use the reshape method -- `.reshape()`\n",
    "# 7,.(a) \n",
    "import numpy as np\n",
    "arrayA = np.array([2, 3, 2])\n",
    "print(np.sort(arrayA))\n",
    "\n"
   ]
  },
  {
   "cell_type": "code",
   "execution_count": 517,
   "metadata": {},
   "outputs": [
    {
     "name": "stdout",
     "output_type": "stream",
     "text": [
      "[2 2 3]\n"
     ]
    }
   ],
   "source": [
    "# 7. (b) Reshape Method\n",
    "import numpy as np\n",
    "arrayA = np.array([2, 2, 3])\n",
    "New_arrayA = arrayA.reshape(3, 1)\n",
    "print(arrayA)\n"
   ]
  },
  {
   "cell_type": "code",
   "execution_count": 563,
   "metadata": {},
   "outputs": [
    {
     "name": "stderr",
     "output_type": "stream",
     "text": [
      "<>:1: SyntaxWarning: 'float' object is not callable; perhaps you missed a comma?\n",
      "<>:1: SyntaxWarning: 'float' object is not callable; perhaps you missed a comma?\n",
      "C:\\Users\\Wilsom Mazimba\\AppData\\Local\\Temp\\ipykernel_5484\\119056415.py:1: SyntaxWarning: 'float' object is not callable; perhaps you missed a comma?\n",
      "  7. (c) # Reshape arrays\n"
     ]
    },
    {
     "ename": "TypeError",
     "evalue": "'float' object is not callable",
     "output_type": "error",
     "traceback": [
      "\u001b[1;31m---------------------------------------------------------------------------\u001b[0m",
      "\u001b[1;31mTypeError\u001b[0m                                 Traceback (most recent call last)",
      "Cell \u001b[1;32mIn[563], line 1\u001b[0m\n\u001b[1;32m----> 1\u001b[0m \u001b[38;5;241;43m7.\u001b[39;49m\u001b[43m \u001b[49m\u001b[43m(\u001b[49m\u001b[43mc\u001b[49m\u001b[43m)\u001b[49m \u001b[38;5;66;03m# Reshape arrays\u001b[39;00m\n\u001b[0;32m      2\u001b[0m \u001b[38;5;28;01mimport\u001b[39;00m \u001b[38;5;21;01mnumpy\u001b[39;00m \u001b[38;5;28;01mas\u001b[39;00m \u001b[38;5;21;01mnp\u001b[39;00m\n\u001b[0;32m      3\u001b[0m int_array1 \u001b[38;5;241m=\u001b[39m np\u001b[38;5;241m.\u001b[39marray(\u001b[38;5;124m'\u001b[39m\u001b[38;5;124mi\u001b[39m\u001b[38;5;124m'\u001b[39m, [\u001b[38;5;241m0\u001b[39m, \u001b[38;5;241m1\u001b[39m, \u001b[38;5;241m2\u001b[39m, \u001b[38;5;241m3\u001b[39m, \u001b[38;5;241m5\u001b[39m, \u001b[38;5;241m4\u001b[39m])\n",
      "\u001b[1;31mTypeError\u001b[0m: 'float' object is not callable"
     ]
    }
   ],
   "source": [
    "7. # (c) Reshape arrays - I failed tofix this error, I need help on this one\n",
    "import numpy as np\n",
    "int_array1 = np.array('i', [0, 1, 2, 3, 5, 4])\n",
    "int_array2 = np.array('i', [6, 7, 8, 9, 10, 11])\n",
    "New_array1 = int_array1.reshape(2, 3)\n",
    "New_array2 = int_array2.reshape(3, 2)\n",
    "print(New_array1)\n",
    "print(New_array2)\n",
    "\n"
   ]
  },
  {
   "cell_type": "code",
   "execution_count": 522,
   "metadata": {},
   "outputs": [
    {
     "name": "stdout",
     "output_type": "stream",
     "text": [
      "[ 0.  4.  8. 12. 16. 20.]\n"
     ]
    }
   ],
   "source": [
    "8. # Use NumPy `.linspace()` to create an array with 6 linearly spaced values between 0 and 20\n",
    "\n",
    "x = np.linspace(0, 20, num = 6)\n",
    "print(x)\n"
   ]
  },
  {
   "cell_type": "code",
   "execution_count": 227,
   "metadata": {},
   "outputs": [
    {
     "name": "stdout",
     "output_type": "stream",
     "text": [
      "[0.0, 5.0, 10.0, 15.0, 20.0]\n"
     ]
    }
   ],
   "source": [
    "9. # Make a Deep Copy of the above array\n",
    "y = [0., 5. , 10., 15., 20.]\n",
    "y2 = y.copy()\n",
    "print(y2)\n"
   ]
  },
  {
   "cell_type": "code",
   "execution_count": 65,
   "metadata": {},
   "outputs": [
    {
     "name": "stdout",
     "output_type": "stream",
     "text": [
      "[[25 16]\n",
      " [11  2]\n",
      " [13  4]\n",
      " [ 7 81]\n",
      " [ 5  6]\n",
      " [11 12]]\n"
     ]
    }
   ],
   "source": [
    "10. # Concatenate these 3 arrays into a new array named 'newArray'\n",
    "import numpy as np\n",
    "\n",
    "a = ([[25, 16]])\n",
    "b = ([[11, 2], [13, 4]])\n",
    "c = ([[7, 81], [5, 6], [11, 12]])\n",
    "\n",
    "newArray = np.concatenate((a, b, c), axis = 0)\n",
    "print(newArray)"
   ]
  },
  {
   "cell_type": "code",
   "execution_count": 70,
   "metadata": {},
   "outputs": [
    {
     "name": "stdout",
     "output_type": "stream",
     "text": [
      "[[16 25]\n",
      " [ 2 11]\n",
      " [ 4 13]\n",
      " [ 7 81]\n",
      " [ 5  6]\n",
      " [11 12]]\n"
     ]
    }
   ],
   "source": [
    "11. # Sort 'newArray' in order into 'sortedArray'\n",
    "sortedArray = np.sort(newArray)\n",
    "print(sortedArray)"
   ]
  },
  {
   "cell_type": "code",
   "execution_count": 537,
   "metadata": {},
   "outputs": [
    {
     "name": "stdout",
     "output_type": "stream",
     "text": [
      "2\n",
      "4\n"
     ]
    }
   ],
   "source": [
    "12. # Unpack the array tuples from the above 'reshapedArray'  into 4 well named variables. Print the 4 variables.\n",
    "#i. Variables less than 5\n",
    "import numpy as np\n",
    "c = [16, 25, 2, 11, 4, 13, 7, 81, 5, 6, 11, 12]\n",
    "for num in c:\n",
    "  if num < 5:\n",
    "    print(num)\n",
    "\n"
   ]
  },
  {
   "cell_type": "code",
   "execution_count": 538,
   "metadata": {},
   "outputs": [
    {
     "name": "stdout",
     "output_type": "stream",
     "text": [
      "16\n",
      "25\n",
      "11\n",
      "13\n",
      "7\n",
      "81\n",
      "6\n",
      "11\n",
      "12\n"
     ]
    }
   ],
   "source": [
    "# ii. Variables greater than 5\n",
    "c = [16, 25, 2, 11, 4, 13, 7, 81, 5, 6, 11, 12]\n",
    "for num in c:\n",
    "  if num > 5:\n",
    "    print(num)\n"
   ]
  },
  {
   "cell_type": "code",
   "execution_count": 542,
   "metadata": {},
   "outputs": [
    {
     "name": "stdout",
     "output_type": "stream",
     "text": [
      "16\n",
      "2\n",
      "4\n",
      "6\n",
      "12\n"
     ]
    }
   ],
   "source": [
    "# iii. Variables divisible by 2\n",
    "c = [16, 25, 2, 11, 4, 13, 7, 81, 5, 6, 11, 12]\n",
    "for num in c:\n",
    "  if num %2 == 0:\n",
    "    print(num)\n",
    "\n",
    "\n"
   ]
  },
  {
   "cell_type": "code",
   "execution_count": 89,
   "metadata": {},
   "outputs": [
    {
     "ename": "TypeError",
     "evalue": "'>' not supported between instances of 'list' and 'int'",
     "output_type": "error",
     "traceback": [
      "\u001b[1;31m---------------------------------------------------------------------------\u001b[0m",
      "\u001b[1;31mTypeError\u001b[0m                                 Traceback (most recent call last)",
      "Cell \u001b[1;32mIn[89], line 1\u001b[0m\n\u001b[1;32m----> 1\u001b[0m d \u001b[38;5;241m=\u001b[39m c[(\u001b[43mc\u001b[49m\u001b[43m \u001b[49m\u001b[38;5;241;43m>\u001b[39;49m\u001b[43m \u001b[49m\u001b[38;5;241;43m25\u001b[39;49m) \u001b[38;5;241m&\u001b[39m (c \u001b[38;5;241m<\u001b[39m \u001b[38;5;241m85\u001b[39m)]\n\u001b[0;32m      2\u001b[0m \u001b[38;5;28mprint\u001b[39m(c)\n",
      "\u001b[1;31mTypeError\u001b[0m: '>' not supported between instances of 'list' and 'int'"
     ]
    }
   ],
   "source": [
    "d = c[(c > 25) & (c < 85)]\n",
    "print(c)"
   ]
  },
  {
   "cell_type": "code",
   "execution_count": 91,
   "metadata": {},
   "outputs": [
    {
     "name": "stdout",
     "output_type": "stream",
     "text": [
      "[10 11 12 13 14 15 16 17 20 21 22 23 24 25 26 27  0  1  2  3  4  5  6  7]\n"
     ]
    }
   ],
   "source": [
    "13. i.# Combined and sort the following arrays into one called 'comboArray'\n",
    "one = ([10, 11, 12, 13, 14, 15, 16, 17])\n",
    "two = ([20, 21, 22, 23, 24, 25, 26, 27])\n",
    "three = ([ 0, 1, 2, 3, 4, 5, 6, 7])\n",
    "comboArray = np.concatenate((one, two, three), axis = 0)\n",
    "print(comboArray)"
   ]
  },
  {
   "cell_type": "code",
   "execution_count": 92,
   "metadata": {},
   "outputs": [
    {
     "name": "stdout",
     "output_type": "stream",
     "text": [
      "[ 0  1  2  3  4  5  6  7 10 11 12 13 14 15 16 17 20 21 22 23 24 25 26 27]\n"
     ]
    }
   ],
   "source": [
    "# 13.ii. sort comboArray\n",
    "sortecomboArray = np.sort(comboArray)\n",
    "print(sortecomboArray)\n"
   ]
  },
  {
   "cell_type": "code",
   "execution_count": 526,
   "metadata": {},
   "outputs": [
    {
     "name": "stdout",
     "output_type": "stream",
     "text": [
      "0\n",
      "1\n",
      "2\n",
      "3\n",
      "4\n"
     ]
    }
   ],
   "source": [
    "14. #. Take 'comboArray' and perform the following slicing activities:\n",
    "# 14. i. Variables less than 5\n",
    "comboArray = (9, 10, 11, 12, 13, 14, 15, 16, 17, 20, 21, 22, 23, 24, 25, 26, 27, 0, 1, 2, 3, 4, 5, 6, 7)\n",
    "for num in comboArray:\n",
    "    if num < 5:\n",
    "        print(num)\n",
    "\n",
    "\n"
   ]
  },
  {
   "cell_type": "code",
   "execution_count": 150,
   "metadata": {},
   "outputs": [
    {
     "name": "stdout",
     "output_type": "stream",
     "text": [
      "(13, 14, 15, 16, 17, 20, 21, 22, 23, 24)\n"
     ]
    }
   ],
   "source": [
    "#14. ii. All elements from the 4th to the 14th elements\n",
    "\n",
    "comboArray = (9, 10, 11, 12, 13, 14, 15, 16, 17, 20, 21, 22, 23, 24, 25, 26, 27, 0, 1, 2, 3, 4, 5, 6, 7)\n",
    "print(comboArray[4: 14])"
   ]
  },
  {
   "cell_type": "code",
   "execution_count": 162,
   "metadata": {},
   "outputs": [
    {
     "name": "stdout",
     "output_type": "stream",
     "text": [
      "(2, 3, 4, 5, 6, 7)\n"
     ]
    }
   ],
   "source": [
    "#14, iii. The last 6 elements\n",
    "comboArray = (9, 10, 11, 12, 13, 14, 15, 16, 17, 20, 21, 22, 23, 24, 25, 26, 27, 0, 1, 2, 3, 4, 5, 6, 7)\n",
    "print(comboArray[19 : 25])"
   ]
  },
  {
   "cell_type": "code",
   "execution_count": 180,
   "metadata": {},
   "outputs": [
    {
     "name": "stdout",
     "output_type": "stream",
     "text": [
      "(12, 13, 14, 15, 16, 17, 20, 21, 22, 23, 24, 25, 26, 27, 0, 1, 2, 3, 4, 5, 6, 7)\n",
      "(16, 17, 20, 21, 22, 23, 24, 25, 26, 27, 0, 1, 2, 3, 4, 5, 6, 7)\n",
      "(24, 25, 26, 27, 0, 1, 2, 3, 4, 5, 6, 7)\n",
      "24\n",
      "(27, 0, 1, 2, 3, 4, 5, 6, 7)\n"
     ]
    }
   ],
   "source": [
    "#14. iv. All element from #0 up to and including #15, using the negative number method, i.e. taking a section from the end.\n",
    "comboArray = (9, 10, 11, 12, 13, 14, 15, 16, 17, 20, 21, 22, 23, 24, 25, 26, 27, 0, 1, 2, 3, 4, 5, 6, 7)\n",
    "print(comboArray[-22:])\n",
    "print(comboArray[-18:])\n",
    "print(comboArray[-12:])\n",
    "print(comboArray[-12])\n",
    "print(comboArray[-9:])"
   ]
  },
  {
   "cell_type": "code",
   "execution_count": 545,
   "metadata": {},
   "outputs": [
    {
     "name": "stdout",
     "output_type": "stream",
     "text": [
      "\n",
      "Slicing from index comboArray[9:] to the end\n",
      "(20, 21, 22, 23, 24, 25, 26, 27, 0, 1, 2, 3, 4, 5, 6, 7)\n"
     ]
    }
   ],
   "source": [
    "#14. v(a).  From #20 every even element to the end\n",
    "comboArray = (9, 10, 11, 12, 13, 14, 15, 16, 17, 20, 21, 22, 23, 24, 25, 26, 27, 0, 1, 2, 3, 4, 5, 6, 7)\n",
    "print(\"\\nSlicing from index comboArray[9:] to the end\")\n",
    "print(comboArray[9:])\n"
   ]
  },
  {
   "cell_type": "code",
   "execution_count": 273,
   "metadata": {},
   "outputs": [
    {
     "name": "stdout",
     "output_type": "stream",
     "text": [
      "\n",
      "Slicing from index comboArray[9:] to the end\n",
      "(20, 21, 22, 23, 24, 25, 26, 27, 0, 1, 2, 3, 4, 5, 6, 7)\n"
     ]
    }
   ],
   "source": [
    "#14. v(b) Removing the second line function does not print the comboArray output.\n",
    "comboArray = (9, 10, 11, 12, 13, 14, 15, 16, 17, 20, 21, 22, 23, 24, 25, 26, 27, 0, 1, 2, 3, 4, 5, 6, 7)\n",
    "print(\"\\nSlicing from index comboArray[9:] to the end\")\n",
    "print(comboArray[9:])"
   ]
  },
  {
   "cell_type": "code",
   "execution_count": 546,
   "metadata": {},
   "outputs": [
    {
     "name": "stdout",
     "output_type": "stream",
     "text": [
      "9\n",
      "14\n",
      "21\n",
      "26\n",
      "3\n"
     ]
    }
   ],
   "source": [
    "#14, vi. From the last element moving forward, every 5th element \n",
    "comboArray = (9, 10, 11, 12, 13, 14, 15, 16, 17, 20, 21, 22, 23, 24, 25, 26, 27, 0, 1, 2, 3, 4, 5, 6, 7)\n",
    "for i in range(0, len(comboArray), 5):\n",
    "    print(comboArray[i])"
   ]
  },
  {
   "cell_type": "code",
   "execution_count": 308,
   "metadata": {},
   "outputs": [],
   "source": [
    "15. # Using `Series`, create a `DataFrame` that looks like this:\n",
    "\n",
    "    | Ingredients | Quantity | Unit |\n",
    "    |----|----|----|\n",
    "    | Flour | 4 | cups |\n",
    "    | Milk | 1 | cup |\n",
    "    | Eggs | 2 | large |\n",
    "    | Spam | 1 | can |\n",
    "\n",
    "    Name: Dinner, dtype: object\n"
   ]
  },
  {
   "cell_type": "code",
   "execution_count": 341,
   "metadata": {},
   "outputs": [
    {
     "name": "stdout",
     "output_type": "stream",
     "text": [
      "0    Flour\n",
      "1     Milk\n",
      "2     Eggs\n",
      "3     spam\n",
      "dtype: object\n",
      "0      Cup\n",
      "1      Cup\n",
      "2    Large\n",
      "3      can\n",
      "dtype: object\n",
      "0    4\n",
      "1    1\n",
      "2    2\n",
      "3    1\n",
      "dtype: int64\n"
     ]
    }
   ],
   "source": [
    "#15 (a) Create the series\n",
    "\n",
    "import pandas as pd\n",
    "\n",
    "Ingredients = pd.Series([\"Flour\", \"Milk\", \"Eggs\", \"spam\"])\n",
    "Quantity = pd.Series([\"Cup\", \"Cup\", \"Large\", \"can\"])\n",
    "Units = pd.Series([4, 1, 2, 1])\n",
    "print(Ingredients)\n",
    "print(Quantity)\n",
    "print(Units)\n"
   ]
  },
  {
   "cell_type": "code",
   "execution_count": 340,
   "metadata": {},
   "outputs": [
    {
     "name": "stdout",
     "output_type": "stream",
     "text": [
      "       0  1      2\n",
      "0  Flour  4    Cup\n",
      "1   Milk  1    Cup\n",
      "2   Eggs  2  Large\n",
      "3   spam  1    can\n"
     ]
    }
   ],
   "source": [
    "# 15 (b) generate dataFrame\n",
    "\n",
    "df = pd.concat([Ingredients, Units, Quantity], axis=1)\n",
    "print(df)"
   ]
  },
  {
   "cell_type": "code",
   "execution_count": 389,
   "metadata": {},
   "outputs": [
    {
     "name": "stdout",
     "output_type": "stream",
     "text": [
      "studentData as DataFrame ...\n",
      "       Name  Height Qualification  address  Age        Pets           sport\n",
      "0      Jai     5.1           Msc    Delhi   21         Dog           Darts\n",
      "1  janusha     6.2            MA     Doha   23       Bunny      Basketball\n",
      "2   Gaurav     5.1           Msc  Chennai   24  Chinchilla  PaddleBoarding\n",
      "3     Anuj     5.2           Msc   Dakhar   21      Parrot         Cricket\n"
     ]
    }
   ],
   "source": [
    "16. # Take this data and create a DataFrame named studentData\n",
    "# 16 (a) Create a dictionary\n",
    "\n",
    "studentData  = {'Name': ['Jai', 'janusha', 'Gaurav', 'Anuj'],\n",
    "            'Height': [5.1, 6.2, 5.1, 5.2],\n",
    "            'Qualification': ['Msc', 'MA', 'Msc', 'Msc'],\n",
    "            'address': ['Delhi', 'Doha', 'Chennai', 'Dakhar'],\n",
    "            'Age': [21, 23, 24, 21],\n",
    "            'Pets': ['Dog', 'Bunny', 'Chinchilla', 'Parrot'],\n",
    "            'sport': ['Darts', 'Basketball', 'PaddleBoarding', 'Cricket']\n",
    "        }\n",
    "# 16 ((b) Convert Dictionary to dataFrame)\n",
    "studentData = pd.DataFrame(studentData)\n",
    "print(\"studentData as DataFrame ...\\n\", studentData)"
   ]
  },
  {
   "cell_type": "code",
   "execution_count": 421,
   "metadata": {},
   "outputs": [
    {
     "name": "stdout",
     "output_type": "stream",
     "text": [
      "       Flavours\n",
      "0     ice cream\n",
      "1  Cashew Fudge\n",
      "2       waffels\n",
      "3  Carrot Halwa\n"
     ]
    }
   ],
   "source": [
    "17. # Add a new column to the DataFrame with the following deserts:[\"ice cream\", \"Cashew Fudge\", \"waffels\", \"Carrot Halwa\"]\n",
    "# Only the new column was printed instead of all the columns, why?\n",
    "studentData  = {'Name': ['Jai', 'janusha', 'Gaurav', 'Anuj'],\n",
    "            'Height': [5.1, 6.2, 5.1, 5.2],\n",
    "            'Qualification': ['Msc', 'MA', 'Msc', 'Msc'],\n",
    "            'address': ['Delhi', 'Doha', 'Chennai', 'Dakhar'],\n",
    "            'Age': [21, 23, 24, 21],\n",
    "            'Pets': ['Dog', 'Bunny', 'Chinchilla', 'Parrot'],\n",
    "            'sport': ['Darts', 'Basketball', 'PaddleBoarding', 'Cricket']\n",
    "        }\n",
    "df['Flavours'] = [\"ice cream\", \"Cashew Fudge\", \"waffels\", \"Carrot Halwa\"]\n",
    "df = pd.DataFrame({'Flavours': [\"ice cream\", \"Cashew Fudge\", \"waffels\", \"Carrot Halwa\"]})\n",
    "print(df)"
   ]
  },
  {
   "cell_type": "code",
   "execution_count": 458,
   "metadata": {},
   "outputs": [
    {
     "name": "stdout",
     "output_type": "stream",
     "text": [
      "      Name  Height Qualification  address  Age        Pets spot\n",
      "3     Anuj     5.2           Msc   Dakhar   21      Parrot  NaN\n",
      "2   Gaurav     5.1           Msc  Chennai   24  Chinchilla  NaN\n",
      "0      Jai     5.1           Msc    Delhi   21         Dog  NaN\n",
      "1  janusha     6.2            MA     Doha   23       Bunny  NaN\n"
     ]
    }
   ],
   "source": [
    "# 18. (a) Sort the dataFrame in ascending order - by Name\n",
    "\n",
    "# creating and initializing a nested list (country, year, population, continent)\n",
    "studentData  = {'Name': ['Jai', 'janusha', 'Gaurav', 'Anuj'],\n",
    "            'Height': [5.1, 6.2, 5.1, 5.2],\n",
    "            'Qualification': ['Msc', 'MA', 'Msc', 'Msc'],\n",
    "            'address': ['Delhi', 'Doha', 'Chennai', 'Dakhar'],\n",
    "            'Age': [21, 23, 24, 21],\n",
    "            'Pets': ['Dog', 'Bunny', 'Chinchilla', 'Parrot'],\n",
    "            'sport': ['Darts', 'Basketball', 'PaddleBoarding', 'Cricket']\n",
    "        }\n",
    "df.sort_values(by = ['Name'], inplace = True)\n",
    "sorted_dataFrame = df.sort_values(by = 'Name')\n",
    "print(sorted_dataFrame)"
   ]
  },
  {
   "cell_type": "code",
   "execution_count": 459,
   "metadata": {},
   "outputs": [
    {
     "name": "stdout",
     "output_type": "stream",
     "text": [
      "      Name  Height Qualification  address  Age        Pets spot\n",
      "2   Gaurav     5.1           Msc  Chennai   24  Chinchilla  NaN\n",
      "0      Jai     5.1           Msc    Delhi   21         Dog  NaN\n",
      "3     Anuj     5.2           Msc   Dakhar   21      Parrot  NaN\n",
      "1  janusha     6.2            MA     Doha   23       Bunny  NaN\n"
     ]
    }
   ],
   "source": [
    "# 18. (b) Sort the dataFrame in ascending order - by Height\n",
    "studentData  = {'Name': ['Jai', 'janusha', 'Gaurav', 'Anuj'],\n",
    "            'Height': [5.1, 6.2, 5.1, 5.2],\n",
    "            'Qualification': ['Msc', 'MA', 'Msc', 'Msc'],\n",
    "            'address': ['Delhi', 'Doha', 'Chennai', 'Dakhar'],\n",
    "            'Age': [21, 23, 24, 21],\n",
    "            'Pets': ['Dog', 'Bunny', 'Chinchilla', 'Parrot'],\n",
    "            'sport': ['Darts', 'Basketball', 'PaddleBoarding', 'Cricket']\n",
    "        }\n",
    "df.sort_values(by = ['Height'], inplace = True)\n",
    "sorted_dataFrame = df.sort_values(by = 'Height')\n",
    "print(sorted_dataFrame)"
   ]
  },
  {
   "cell_type": "code",
   "execution_count": 460,
   "metadata": {},
   "outputs": [
    {
     "name": "stdout",
     "output_type": "stream",
     "text": [
      "      Name  Height Qualification  address  Age        Pets spot\n",
      "0      Jai     5.1           Msc    Delhi   21         Dog  NaN\n",
      "3     Anuj     5.2           Msc   Dakhar   21      Parrot  NaN\n",
      "1  janusha     6.2            MA     Doha   23       Bunny  NaN\n",
      "2   Gaurav     5.1           Msc  Chennai   24  Chinchilla  NaN\n"
     ]
    }
   ],
   "source": [
    "# 18. (c) Sort the dataFrame in ascending order - by Age\n",
    "studentData  = {'Name': ['Jai', 'janusha', 'Gaurav', 'Anuj'],\n",
    "            'Height': [5.1, 6.2, 5.1, 5.2],\n",
    "            'Qualification': ['Msc', 'MA', 'Msc', 'Msc'],\n",
    "            'address': ['Delhi', 'Doha', 'Chennai', 'Dakhar'],\n",
    "            'Age': [21, 23, 24, 21],\n",
    "            'Pets': ['Dog', 'Bunny', 'Chinchilla', 'Parrot'],\n",
    "            'sport': ['Darts', 'Basketball', 'PaddleBoarding', 'Cricket']\n",
    "        }\n",
    "df.sort_values(by = ['Age'], inplace = True)\n",
    "sorted_dataFrame = df.sort_values(by = 'Age')\n",
    "print(sorted_dataFrame)"
   ]
  },
  {
   "cell_type": "code",
   "execution_count": 496,
   "metadata": {},
   "outputs": [
    {
     "name": "stdout",
     "output_type": "stream",
     "text": [
      "        Cows  Goats\n",
      "Year 1    12     22\n",
      "Year 2    20     19\n"
     ]
    }
   ],
   "source": [
    "19. # Save this `DataFrame` here below to disc as a `.CSV` file with the name `cows_and_goats.csv`: python\n",
    "# df = pd.DataFrame({'Cows': [12, 20], 'Goats': [22, 19]}, index=['Year 1', 'Year 2'])\n",
    "\n",
    "cows_and_goats = ({'Cows': [12, 20], 'Goats': [22, 19]})\n",
    "df = pd.DataFrame({'Cows': [12, 20], 'Goats': [22, 19]}, index=['Year 1', 'Year 2'])\n",
    "print(df)\n",
    "df.to_csv('cows_and_goats', index = False)"
   ]
  },
  {
   "cell_type": "code",
   "execution_count": 497,
   "metadata": {},
   "outputs": [
    {
     "name": "stdout",
     "output_type": "stream",
     "text": [
      "        cabbage  Kale  Okra\n",
      "Year 1       10    14    53\n",
      "Year 2       20    12    63\n",
      "Year 3       15    20    77\n",
      "Year 4       19    55    99\n"
     ]
    }
   ],
   "source": [
    "\n",
    "20. # (A) Using Pandas, make your own .CSV file with data on vegetables and save it. \n",
    "\n",
    "Veg_Type = ({'cabbage': [10, 20, 15, 19], 'Kale': [14, 12, 20, 55], 'Okra': [53, 63, 77, 99]})\n",
    "df = pd.DataFrame({'cabbage': [10, 20, 15, 19], 'Kale': [14, 12, 20, 55], 'Okra': [53, 63, 77, 99]}, index=['Year 1', 'Year 2', 'Year 3', 'Year 4'])\n",
    "print(df)\n",
    "df.to_csv('Veg_Type', index = False)"
   ]
  },
  {
   "cell_type": "code",
   "execution_count": 501,
   "metadata": {},
   "outputs": [
    {
     "name": "stdout",
     "output_type": "stream",
     "text": [
      "         cabbage  Kale  Okra\n",
      "Year 1       150   144   533\n",
      "Year 2       210   123   634\n",
      "Year 3       152   206   772\n",
      "Year 4       195   553   996\n",
      "Year 5       200   376   543\n",
      "Year 6       369   324   654\n",
      "Year 7       699   543   753\n",
      "Year 8       754   765  8962\n",
      "Year 9       765   243   987\n",
      "Year 10      870   546   999\n"
     ]
    }
   ],
   "source": [
    "# (B) Using Pandas, make a change to your CSV file, and save a copy with a different name.\n",
    "New_Veg_Type = ({'cabbage': [150, 210, 152, 195, 200, 369, 699, 754, 765, 870], 'Kale': [144, 123, 206, 553, 376, 324, 543, 765, 243, 546,], 'Okra': [533, 634, 772, 996, 543, 654, 753, 8962, 987,999 ]})\n",
    "df = pd.DataFrame({'cabbage': [150, 210, 152, 195, 200, 369, 699, 754, 765, 870], 'Kale': [144, 123, 206, 553, 376, 324, 543, 765, 243, 546,], 'Okra': [533, 634, 772, 996, 543, 654, 753, 8962, 987,999 ]}, index=['Year 1', 'Year 2', 'Year 3', 'Year 4', 'Year 5', 'Year 6', 'Year 7', 'Year 8', 'Year 9', 'Year 10'])\n",
    "print(df)\n",
    "df.to_csv('New_Veg_Type', index = False)"
   ]
  }
 ],
 "metadata": {
  "celltoolbar": "Slideshow",
  "kernelspec": {
   "display_name": "Python 3",
   "language": "python",
   "name": "python3"
  },
  "language_info": {
   "codemirror_mode": {
    "name": "ipython",
    "version": 3
   },
   "file_extension": ".py",
   "mimetype": "text/x-python",
   "name": "python",
   "nbconvert_exporter": "python",
   "pygments_lexer": "ipython3",
   "version": "3.13.1"
  }
 },
 "nbformat": 4,
 "nbformat_minor": 2
}
